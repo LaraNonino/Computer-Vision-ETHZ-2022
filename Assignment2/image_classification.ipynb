{
 "cells": [
  {
   "cell_type": "markdown",
   "metadata": {},
   "source": [
    "# Image Classification with PyTorch"
   ]
  },
  {
   "cell_type": "markdown",
   "metadata": {},
   "source": [
    "## Data loading\n"
   ]
  },
  {
   "cell_type": "code",
   "execution_count": 1,
   "metadata": {},
   "outputs": [],
   "source": [
    "import numpy as np\n",
    "import matplotlib.pyplot as plt\n",
    "\n",
    "import torch\n",
    "import torch.nn as nn\n",
    "import torch.nn.functional as F\n",
    "import torch.optim as optim\n",
    "from torch.utils.data import DataLoader\n",
    "import torchvision\n",
    "from torchvision import datasets, transforms"
   ]
  },
  {
   "cell_type": "code",
   "execution_count": 2,
   "metadata": {},
   "outputs": [],
   "source": [
    "# torchvision contains convinience functions for popular datasets\n",
    "ds_train = datasets.MNIST('data', train=True, download=True)"
   ]
  },
  {
   "cell_type": "markdown",
   "metadata": {},
   "source": [
    "Each sample is a 28x28 image"
   ]
  },
  {
   "cell_type": "code",
   "execution_count": 3,
   "metadata": {},
   "outputs": [
    {
     "name": "stdout",
     "output_type": "stream",
     "text": [
      "(<PIL.Image.Image image mode=L size=28x28 at 0x7FCD23FCB0D0>, 5)\n"
     ]
    },
    {
     "data": {
      "image/png": "[encoded data removed]",
      "text/plain": [
       "<PIL.Image.Image image mode=L size=120x120>"
      ]
     },
     "execution_count": 3,
     "metadata": {},
     "output_type": "execute_result"
    }
   ],
   "source": [
    "# if we index this dataset, we get a single data point: a PIL image and an Integer\n",
    "print(ds_train[0])\n",
    "ds_train[0][0].resize((120,120))"
   ]
  },
  {
   "cell_type": "markdown",
   "metadata": {},
   "source": [
    "Let's transform the data to something that our Pytorch models will understand\n",
    "for this purpose, we can supply a transform function to the datase"
   ]
  },
  {
   "cell_type": "code",
   "execution_count": 4,
   "metadata": {},
   "outputs": [],
   "source": [
    "transform = transforms.Compose([\n",
    "    transforms.ToTensor(),\n",
    "])\n",
    "ds_train = datasets.MNIST('data', train=True, download=True, transform=transform)"
   ]
  },
  {
   "cell_type": "markdown",
   "metadata": {},
   "source": [
    "The image is now a `torch.Tensor`"
   ]
  },
  {
   "cell_type": "code",
   "execution_count": 5,
   "metadata": {},
   "outputs": [
    {
     "data": {
      "text/plain": [
       "torch.Tensor"
      ]
     },
     "execution_count": 5,
     "metadata": {},
     "output_type": "execute_result"
    }
   ],
   "source": [
    "type(ds_train[0][0])"
   ]
  },
  {
   "cell_type": "markdown",
   "metadata": {},
   "source": [
    "The normalization is something you learned about in the lecture. Normalizing with $\\mu=0, \\sigma=1$ corresponds to no normalization. Let's compute the proper normalization constants!"
   ]
  },
  {
   "cell_type": "code",
   "execution_count": 6,
   "metadata": {},
   "outputs": [],
   "source": [
    "# lets get only the images \n",
    "ims_train = ds_train.data\n",
    "ims_train = ims_train.float() / 255."
   ]
  },
  {
   "cell_type": "code",
   "execution_count": 7,
   "metadata": {},
   "outputs": [],
   "source": [
    "#########################################################################\n",
    "# TODO: calculate the mean and std of MNIST images\n",
    "# hint: to look for operations on pytorch tensor, refer to the official PyTorch docs \n",
    "# https://pytorch.org/docs/stable/\n",
    "#########################################################################\n",
    "std, mu = torch.std_mean(ims_train)"
   ]
  },
  {
   "cell_type": "markdown",
   "metadata": {},
   "source": [
    "We normalize the data as below."
   ]
  },
  {
   "cell_type": "code",
   "execution_count": 8,
   "metadata": {},
   "outputs": [],
   "source": [
    "transform = transforms.Compose([\n",
    "    transforms.ToTensor(),\n",
    "    transforms.Normalize(mu, std)\n",
    "])\n",
    "ds_train = datasets.MNIST('data', train=True, download=True, transform=transform)\n",
    "ds_test = datasets.MNIST('data', train=False, download=True, transform=transform)"
   ]
  },
  {
   "cell_type": "code",
   "execution_count": 9,
   "metadata": {},
   "outputs": [
    {
     "data": {
      "text/plain": [
       "(tensor(-0.4241), tensor(2.8215))"
      ]
     },
     "execution_count": 9,
     "metadata": {},
     "output_type": "execute_result"
    }
   ],
   "source": [
    "ds_train[0][0].min(), ds_train[0][0].max()"
   ]
  },
  {
   "cell_type": "markdown",
   "metadata": {},
   "source": [
    "Next, we want to receive mini-batches, not only single data points.\n",
    "We use PyTorch's DataLoader class. Build a dataloader with a batch size of 64 and 4 workers (number of subprocess that peform the dataloading). Important: you need to shuffle the training data, not the test data.\n",
    "\n",
    "**NOTE**: if you encounter some unexpected errors in data loading, try setting `NUM_WORKERS = 0`"
   ]
  },
  {
   "cell_type": "code",
   "execution_count": 10,
   "metadata": {},
   "outputs": [],
   "source": [
    "BATCH_SIZE = 64\n",
    "NUM_WORKERS = 4\n",
    "#########################################################################\n",
    "# TODO: Build a dataloader for both train and test data.\n",
    "#########################################################################\n",
    "dl_train = DataLoader(ds_train, batch_size=BATCH_SIZE, num_workers=NUM_WORKERS, shuffle=True)\n",
    "dl_test = DataLoader(ds_train, batch_size=BATCH_SIZE, num_workers=NUM_WORKERS)"
   ]
  },
  {
   "cell_type": "markdown",
   "metadata": {},
   "source": [
    "## MLP in Pytorch\n",
    "\n",
    "Ok, the dataloading works. Let's build our model, PyTorch makes this very easy. We will build replicate the model from our last exercises. However, now, we add another variable called `nLayer` that indicates how many linear layers that in your network. Please adapt your code from last exercise accordingly to allow different number of layers."
   ]
  },
  {
   "cell_type": "code",
   "execution_count": 11,
   "metadata": {},
   "outputs": [],
   "source": [
    "# These are the parameters to be used\n",
    "nInput = 784\n",
    "nOutput = 10\n",
    "nLayer = 2\n",
    "nHidden = 16\n",
    "act_fn = nn.ReLU()"
   ]
  },
  {
   "cell_type": "code",
   "execution_count": 12,
   "metadata": {},
   "outputs": [],
   "source": [
    "#########################################################################\n",
    "# TODO: Implement the __init__ of the MLP class. \n",
    "# insert the activation after every linear layer. Important: the number of \n",
    "# hidden layers should be variable!\n",
    "#########################################################################\n",
    "\n",
    "class MLP(nn.Module):\n",
    "    def __init__(self, nInput, nOutput, nLayer, nHidden, act_fn):\n",
    "        super(MLP, self).__init__()\n",
    "        layers = [] \n",
    "        \n",
    "        ##### implement this part #####\n",
    "        layers.extend([nn.Linear(nInput,nHidden), act_fn])\n",
    "        for i in range(nLayer-2):\n",
    "            layers.extend([nn.Linear(nHidden,nHidden), act_fn])\n",
    "        layers.extend([nn.Linear(nHidden,nOutput)])\n",
    "        ###############################\n",
    "        \n",
    "        self.model = nn.Sequential(*layers)\n",
    "\n",
    "    def forward(self, x):\n",
    "        x = torch.flatten(x, 1)\n",
    "        return self.model(x)"
   ]
  },
  {
   "cell_type": "code",
   "execution_count": 13,
   "metadata": {
    "scrolled": true
   },
   "outputs": [
    {
     "data": {
      "text/plain": [
       "torch.Size([1, 10])"
      ]
     },
     "execution_count": 13,
     "metadata": {},
     "output_type": "execute_result"
    }
   ],
   "source": [
    "# Let's test if the forward pass works\n",
    "# this should print torch.Size([1, 10])\n",
    "t = torch.randn(1,1,28,28)\n",
    "mlp = MLP(nInput, nOutput, nLayer, nHidden, act_fn)\n",
    "mlp(t).shape"
   ]
  },
  {
   "cell_type": "code",
   "execution_count": 14,
   "metadata": {},
   "outputs": [
    {
     "data": {
      "text/plain": [
       "MLP(\n",
       "  (model): Sequential(\n",
       "    (0): Linear(in_features=784, out_features=16, bias=True)\n",
       "    (1): ReLU()\n",
       "    (2): Linear(in_features=16, out_features=10, bias=True)\n",
       "  )\n",
       ")"
      ]
     },
     "execution_count": 14,
     "metadata": {},
     "output_type": "execute_result"
    }
   ],
   "source": [
    "mlp"
   ]
  },
  {
   "cell_type": "markdown",
   "metadata": {},
   "source": [
    "We already implemented the test function for you"
   ]
  },
  {
   "cell_type": "code",
   "execution_count": 15,
   "metadata": {},
   "outputs": [],
   "source": [
    "def test(model, dl_test, device='cpu'):\n",
    "    model.eval()\n",
    "    test_loss = 0\n",
    "    correct = 0\n",
    "    with torch.no_grad():\n",
    "        for data, target in dl_test:\n",
    "            data, target = data.to(device), target.to(device)\n",
    "            output = model(data)\n",
    "            test_loss += F.cross_entropy(output, target, reduction='sum').item()  # sum up batch loss\n",
    "            pred = output.argmax(dim=1, keepdim=True)  # get the index of the max log-probability\n",
    "            correct += pred.eq(target.view_as(pred)).sum().item()\n",
    "\n",
    "    test_loss /= len(dl_test.dataset)\n",
    "\n",
    "    print('\\nTest set: Average loss: {:.4f}, Accuracy: {}/{} ({:.3f}%)\\n'.format(\n",
    "        test_loss, correct, len(dl_test.dataset),\n",
    "        100. * correct / len(dl_test.dataset)))"
   ]
  },
  {
   "cell_type": "markdown",
   "metadata": {},
   "source": [
    "Now you only need to implement the training and you are good to go"
   ]
  },
  {
   "cell_type": "code",
   "execution_count": 16,
   "metadata": {},
   "outputs": [],
   "source": [
    "#########################################################################\n",
    "# TODO: Implement the missing part of the training function. As a loss function we want to use cross entropy\n",
    "# It can be called with F.cross_entropy().\n",
    "# Hint: Pass through the model -> Backpropagate gradients -> Take gradient step\n",
    "#########################################################################\n",
    "\n",
    "def train(model, dl_train, optimizer, epoch, log_interval=100, device='cpu'):\n",
    "    model.train()\n",
    "    correct = 0\n",
    "    for batch_idx, (data, target) in enumerate(dl_train):\n",
    "        data, target = data.to(device), target.to(device)\n",
    "        \n",
    "        # first we need to zero the gradient, otherwise PyTorch would accumulate them\n",
    "        optimizer.zero_grad()         \n",
    "        \n",
    "        ##### implement this part #####\n",
    "        output = model(data)\n",
    "        loss = F.cross_entropy(output, target)\n",
    "        loss.backward()\n",
    "        optimizer.step()\n",
    "        ###############################\n",
    "\n",
    "        # stats\n",
    "        pred = output.argmax(dim=1, keepdim=True)  # get the index of the max log-probability\n",
    "        correct += pred.eq(target.view_as(pred)).sum().item()\n",
    "\n",
    "        if batch_idx % log_interval == 0:\n",
    "            print('Train Epoch: {} [{}/{} ({:.0f}%)]\\tLoss: {:.6f}'.format(\n",
    "                epoch, batch_idx * len(data), len(dl_train.dataset),\n",
    "                100. * batch_idx / len(dl_train), loss.item()))\n",
    "\n",
    "    print('\\nTrain set: Average loss: {:.4f}, Accuracy: {}/{} ({:.1f}%)\\n'.format(\n",
    "        loss, correct, len(dl_train.dataset),\n",
    "        100. * correct / len(dl_train.dataset)))"
   ]
  },
  {
   "cell_type": "markdown",
   "metadata": {},
   "source": [
    "Ok, the setup is almost done. The onoly missing part is the optimizer. We are going to use Adam."
   ]
  },
  {
   "cell_type": "code",
   "execution_count": 17,
   "metadata": {},
   "outputs": [],
   "source": [
    "# reinitialize the mlp, so we can play with parameters right here\n",
    "mlp = MLP(nInput, nOutput, nLayer, nHidden, act_fn)\n",
    "optimizer = optim.Adam(mlp.parameters())"
   ]
  },
  {
   "cell_type": "code",
   "execution_count": 18,
   "metadata": {
    "scrolled": true
   },
   "outputs": [
    {
     "name": "stdout",
     "output_type": "stream",
     "text": [
      "Train Epoch: 1 [0/60000 (0%)]\tLoss: 2.324752\n",
      "Train Epoch: 1 [6400/60000 (11%)]\tLoss: 0.703311\n",
      "Train Epoch: 1 [12800/60000 (21%)]\tLoss: 0.442704\n",
      "Train Epoch: 1 [19200/60000 (32%)]\tLoss: 0.356039\n",
      "Train Epoch: 1 [25600/60000 (43%)]\tLoss: 0.269735\n",
      "Train Epoch: 1 [32000/60000 (53%)]\tLoss: 0.380093\n",
      "Train Epoch: 1 [38400/60000 (64%)]\tLoss: 0.143730\n",
      "Train Epoch: 1 [44800/60000 (75%)]\tLoss: 0.415081\n",
      "Train Epoch: 1 [51200/60000 (85%)]\tLoss: 0.398746\n",
      "Train Epoch: 1 [57600/60000 (96%)]\tLoss: 0.215740\n",
      "\n",
      "Train set: Average loss: 0.3620, Accuracy: 52814/60000 (88.0%)\n",
      "\n",
      "\n",
      "Test set: Average loss: 0.2641, Accuracy: 55335/60000 (92.225%)\n",
      "\n",
      "Train Epoch: 2 [0/60000 (0%)]\tLoss: 0.307216\n",
      "Train Epoch: 2 [6400/60000 (11%)]\tLoss: 0.101434\n",
      "Train Epoch: 2 [12800/60000 (21%)]\tLoss: 0.216740\n",
      "Train Epoch: 2 [19200/60000 (32%)]\tLoss: 0.242946\n",
      "Train Epoch: 2 [25600/60000 (43%)]\tLoss: 0.267012\n",
      "Train Epoch: 2 [32000/60000 (53%)]\tLoss: 0.336495\n",
      "Train Epoch: 2 [38400/60000 (64%)]\tLoss: 0.205934\n",
      "Train Epoch: 2 [44800/60000 (75%)]\tLoss: 0.120566\n",
      "Train Epoch: 2 [51200/60000 (85%)]\tLoss: 0.300606\n",
      "Train Epoch: 2 [57600/60000 (96%)]\tLoss: 0.192549\n",
      "\n",
      "Train set: Average loss: 0.3360, Accuracy: 55756/60000 (92.9%)\n",
      "\n",
      "\n",
      "Test set: Average loss: 0.2188, Accuracy: 56155/60000 (93.592%)\n",
      "\n",
      "Train Epoch: 3 [0/60000 (0%)]\tLoss: 0.263991\n",
      "Train Epoch: 3 [6400/60000 (11%)]\tLoss: 0.151624\n",
      "Train Epoch: 3 [12800/60000 (21%)]\tLoss: 0.253921\n",
      "Train Epoch: 3 [19200/60000 (32%)]\tLoss: 0.352023\n",
      "Train Epoch: 3 [25600/60000 (43%)]\tLoss: 0.179329\n",
      "Train Epoch: 3 [32000/60000 (53%)]\tLoss: 0.262551\n",
      "Train Epoch: 3 [38400/60000 (64%)]\tLoss: 0.124894\n",
      "Train Epoch: 3 [44800/60000 (75%)]\tLoss: 0.477672\n",
      "Train Epoch: 3 [51200/60000 (85%)]\tLoss: 0.234522\n",
      "Train Epoch: 3 [57600/60000 (96%)]\tLoss: 0.089147\n",
      "\n",
      "Train set: Average loss: 0.1020, Accuracy: 56311/60000 (93.9%)\n",
      "\n",
      "\n",
      "Test set: Average loss: 0.1908, Accuracy: 56640/60000 (94.400%)\n",
      "\n",
      "Train Epoch: 4 [0/60000 (0%)]\tLoss: 0.180823\n",
      "Train Epoch: 4 [6400/60000 (11%)]\tLoss: 0.140849\n",
      "Train Epoch: 4 [12800/60000 (21%)]\tLoss: 0.167805\n",
      "Train Epoch: 4 [19200/60000 (32%)]\tLoss: 0.242985\n",
      "Train Epoch: 4 [25600/60000 (43%)]\tLoss: 0.123802\n",
      "Train Epoch: 4 [32000/60000 (53%)]\tLoss: 0.248731\n",
      "Train Epoch: 4 [38400/60000 (64%)]\tLoss: 0.144461\n",
      "Train Epoch: 4 [44800/60000 (75%)]\tLoss: 0.138780\n",
      "Train Epoch: 4 [51200/60000 (85%)]\tLoss: 0.134816\n",
      "Train Epoch: 4 [57600/60000 (96%)]\tLoss: 0.120220\n",
      "\n",
      "Train set: Average loss: 0.1649, Accuracy: 56614/60000 (94.4%)\n",
      "\n",
      "\n",
      "Test set: Average loss: 0.1749, Accuracy: 56908/60000 (94.847%)\n",
      "\n",
      "Train Epoch: 5 [0/60000 (0%)]\tLoss: 0.160050\n",
      "Train Epoch: 5 [6400/60000 (11%)]\tLoss: 0.219029\n",
      "Train Epoch: 5 [12800/60000 (21%)]\tLoss: 0.254219\n",
      "Train Epoch: 5 [19200/60000 (32%)]\tLoss: 0.074747\n",
      "Train Epoch: 5 [25600/60000 (43%)]\tLoss: 0.262348\n",
      "Train Epoch: 5 [32000/60000 (53%)]\tLoss: 0.388575\n",
      "Train Epoch: 5 [38400/60000 (64%)]\tLoss: 0.471209\n",
      "Train Epoch: 5 [44800/60000 (75%)]\tLoss: 0.114995\n",
      "Train Epoch: 5 [51200/60000 (85%)]\tLoss: 0.116146\n",
      "Train Epoch: 5 [57600/60000 (96%)]\tLoss: 0.151761\n",
      "\n",
      "Train set: Average loss: 0.3257, Accuracy: 56853/60000 (94.8%)\n",
      "\n",
      "\n",
      "Test set: Average loss: 0.1599, Accuracy: 57161/60000 (95.268%)\n",
      "\n",
      "Train Epoch: 6 [0/60000 (0%)]\tLoss: 0.085585\n",
      "Train Epoch: 6 [6400/60000 (11%)]\tLoss: 0.249344\n",
      "Train Epoch: 6 [12800/60000 (21%)]\tLoss: 0.102966\n",
      "Train Epoch: 6 [19200/60000 (32%)]\tLoss: 0.068844\n",
      "Train Epoch: 6 [25600/60000 (43%)]\tLoss: 0.208387\n",
      "Train Epoch: 6 [32000/60000 (53%)]\tLoss: 0.097412\n",
      "Train Epoch: 6 [38400/60000 (64%)]\tLoss: 0.273697\n",
      "Train Epoch: 6 [44800/60000 (75%)]\tLoss: 0.222982\n",
      "Train Epoch: 6 [51200/60000 (85%)]\tLoss: 0.062133\n",
      "Train Epoch: 6 [57600/60000 (96%)]\tLoss: 0.108297\n",
      "\n",
      "Train set: Average loss: 0.1692, Accuracy: 57061/60000 (95.1%)\n",
      "\n",
      "\n",
      "Test set: Average loss: 0.1599, Accuracy: 57150/60000 (95.250%)\n",
      "\n",
      "Train Epoch: 7 [0/60000 (0%)]\tLoss: 0.133174\n",
      "Train Epoch: 7 [6400/60000 (11%)]\tLoss: 0.136470\n",
      "Train Epoch: 7 [12800/60000 (21%)]\tLoss: 0.099185\n",
      "Train Epoch: 7 [19200/60000 (32%)]\tLoss: 0.234317\n",
      "Train Epoch: 7 [25600/60000 (43%)]\tLoss: 0.148573\n",
      "Train Epoch: 7 [32000/60000 (53%)]\tLoss: 0.142406\n",
      "Train Epoch: 7 [38400/60000 (64%)]\tLoss: 0.225296\n",
      "Train Epoch: 7 [44800/60000 (75%)]\tLoss: 0.161146\n",
      "Train Epoch: 7 [51200/60000 (85%)]\tLoss: 0.037909\n",
      "Train Epoch: 7 [57600/60000 (96%)]\tLoss: 0.054538\n",
      "\n",
      "Train set: Average loss: 0.0980, Accuracy: 57081/60000 (95.1%)\n",
      "\n",
      "\n",
      "Test set: Average loss: 0.1485, Accuracy: 57408/60000 (95.680%)\n",
      "\n",
      "Train Epoch: 8 [0/60000 (0%)]\tLoss: 0.162546\n",
      "Train Epoch: 8 [6400/60000 (11%)]\tLoss: 0.044266\n",
      "Train Epoch: 8 [12800/60000 (21%)]\tLoss: 0.341096\n",
      "Train Epoch: 8 [19200/60000 (32%)]\tLoss: 0.163779\n",
      "Train Epoch: 8 [25600/60000 (43%)]\tLoss: 0.162733\n",
      "Train Epoch: 8 [32000/60000 (53%)]\tLoss: 0.285562\n",
      "Train Epoch: 8 [38400/60000 (64%)]\tLoss: 0.065941\n",
      "Train Epoch: 8 [44800/60000 (75%)]\tLoss: 0.238551\n",
      "Train Epoch: 8 [51200/60000 (85%)]\tLoss: 0.226094\n",
      "Train Epoch: 8 [57600/60000 (96%)]\tLoss: 0.297727\n",
      "\n",
      "Train set: Average loss: 0.0638, Accuracy: 57255/60000 (95.4%)\n",
      "\n",
      "\n",
      "Test set: Average loss: 0.1400, Accuracy: 57544/60000 (95.907%)\n",
      "\n",
      "Train Epoch: 9 [0/60000 (0%)]\tLoss: 0.193685\n",
      "Train Epoch: 9 [6400/60000 (11%)]\tLoss: 0.045033\n",
      "Train Epoch: 9 [12800/60000 (21%)]\tLoss: 0.050861\n",
      "Train Epoch: 9 [19200/60000 (32%)]\tLoss: 0.139006\n",
      "Train Epoch: 9 [25600/60000 (43%)]\tLoss: 0.235925\n",
      "Train Epoch: 9 [32000/60000 (53%)]\tLoss: 0.087342\n",
      "Train Epoch: 9 [38400/60000 (64%)]\tLoss: 0.196341\n",
      "Train Epoch: 9 [44800/60000 (75%)]\tLoss: 0.179288\n",
      "Train Epoch: 9 [51200/60000 (85%)]\tLoss: 0.208288\n",
      "Train Epoch: 9 [57600/60000 (96%)]\tLoss: 0.228835\n",
      "\n",
      "Train set: Average loss: 0.0242, Accuracy: 57349/60000 (95.6%)\n",
      "\n",
      "\n",
      "Test set: Average loss: 0.1443, Accuracy: 57383/60000 (95.638%)\n",
      "\n",
      "Train Epoch: 10 [0/60000 (0%)]\tLoss: 0.144090\n",
      "Train Epoch: 10 [6400/60000 (11%)]\tLoss: 0.195578\n",
      "Train Epoch: 10 [12800/60000 (21%)]\tLoss: 0.195076\n",
      "Train Epoch: 10 [19200/60000 (32%)]\tLoss: 0.127373\n",
      "Train Epoch: 10 [25600/60000 (43%)]\tLoss: 0.138405\n",
      "Train Epoch: 10 [32000/60000 (53%)]\tLoss: 0.134164\n",
      "Train Epoch: 10 [38400/60000 (64%)]\tLoss: 0.201351\n",
      "Train Epoch: 10 [44800/60000 (75%)]\tLoss: 0.150251\n",
      "Train Epoch: 10 [51200/60000 (85%)]\tLoss: 0.130102\n",
      "Train Epoch: 10 [57600/60000 (96%)]\tLoss: 0.025399\n",
      "\n",
      "Train set: Average loss: 0.0867, Accuracy: 57421/60000 (95.7%)\n",
      "\n",
      "\n",
      "Test set: Average loss: 0.1365, Accuracy: 57546/60000 (95.910%)\n",
      "\n",
      "Training is finished.\n"
     ]
    }
   ],
   "source": [
    "epochs = 10\n",
    "for epoch in range(1, epochs + 1):\n",
    "    train(mlp, dl_train, optimizer, epoch, log_interval=100)\n",
    "    test(mlp, dl_test)\n",
    "\n",
    "print ('Training is finished.')"
   ]
  },
  {
   "cell_type": "markdown",
   "metadata": {},
   "source": [
    "After training, you should see test accuracies of > **94%** - By they way, here we report test accuracy, the last exercises reported test error. Accuracy is simply (1 - error). Both metrics are commonly reported, there is no clear preference in literature for one or the other."
   ]
  },
  {
   "cell_type": "markdown",
   "metadata": {},
   "source": [
    "Now, can you do some parameter tuning to boost the test accuracy to > **97%**?"
   ]
  },
  {
   "cell_type": "code",
   "execution_count": 19,
   "metadata": {},
   "outputs": [
    {
     "name": "stdout",
     "output_type": "stream",
     "text": [
      "Train Epoch: 1 [0/60000 (0%)]\tLoss: 2.299599\n",
      "Train Epoch: 1 [6400/60000 (11%)]\tLoss: 0.464396\n",
      "Train Epoch: 1 [12800/60000 (21%)]\tLoss: 0.407248\n",
      "Train Epoch: 1 [19200/60000 (32%)]\tLoss: 0.440721\n",
      "Train Epoch: 1 [25600/60000 (43%)]\tLoss: 0.293765\n",
      "Train Epoch: 1 [32000/60000 (53%)]\tLoss: 0.234853\n",
      "Train Epoch: 1 [38400/60000 (64%)]\tLoss: 0.365349\n",
      "Train Epoch: 1 [44800/60000 (75%)]\tLoss: 0.129940\n",
      "Train Epoch: 1 [51200/60000 (85%)]\tLoss: 0.093905\n",
      "Train Epoch: 1 [57600/60000 (96%)]\tLoss: 0.215573\n",
      "\n",
      "Train set: Average loss: 0.1115, Accuracy: 52997/60000 (88.3%)\n",
      "\n",
      "\n",
      "Test set: Average loss: 0.1836, Accuracy: 56600/60000 (94.333%)\n",
      "\n",
      "Train Epoch: 2 [0/60000 (0%)]\tLoss: 0.239017\n",
      "Train Epoch: 2 [6400/60000 (11%)]\tLoss: 0.190748\n",
      "Train Epoch: 2 [12800/60000 (21%)]\tLoss: 0.227833\n",
      "Train Epoch: 2 [19200/60000 (32%)]\tLoss: 0.349103\n",
      "Train Epoch: 2 [25600/60000 (43%)]\tLoss: 0.228841\n",
      "Train Epoch: 2 [32000/60000 (53%)]\tLoss: 0.092265\n",
      "Train Epoch: 2 [38400/60000 (64%)]\tLoss: 0.069860\n",
      "Train Epoch: 2 [44800/60000 (75%)]\tLoss: 0.135228\n",
      "Train Epoch: 2 [51200/60000 (85%)]\tLoss: 0.319539\n",
      "Train Epoch: 2 [57600/60000 (96%)]\tLoss: 0.080457\n",
      "\n",
      "Train set: Average loss: 0.0365, Accuracy: 57204/60000 (95.3%)\n",
      "\n",
      "\n",
      "Test set: Average loss: 0.1273, Accuracy: 57628/60000 (96.047%)\n",
      "\n",
      "Train Epoch: 3 [0/60000 (0%)]\tLoss: 0.104418\n",
      "Train Epoch: 3 [6400/60000 (11%)]\tLoss: 0.133297\n",
      "Train Epoch: 3 [12800/60000 (21%)]\tLoss: 0.042987\n",
      "Train Epoch: 3 [19200/60000 (32%)]\tLoss: 0.077342\n",
      "Train Epoch: 3 [25600/60000 (43%)]\tLoss: 0.205198\n",
      "Train Epoch: 3 [32000/60000 (53%)]\tLoss: 0.158975\n",
      "Train Epoch: 3 [38400/60000 (64%)]\tLoss: 0.227205\n",
      "Train Epoch: 3 [44800/60000 (75%)]\tLoss: 0.138450\n",
      "Train Epoch: 3 [51200/60000 (85%)]\tLoss: 0.038614\n",
      "Train Epoch: 3 [57600/60000 (96%)]\tLoss: 0.107325\n",
      "\n",
      "Train set: Average loss: 0.1779, Accuracy: 57769/60000 (96.3%)\n",
      "\n",
      "\n",
      "Test set: Average loss: 0.1007, Accuracy: 58098/60000 (96.830%)\n",
      "\n",
      "Train Epoch: 4 [0/60000 (0%)]\tLoss: 0.147750\n",
      "Train Epoch: 4 [6400/60000 (11%)]\tLoss: 0.037398\n",
      "Train Epoch: 4 [12800/60000 (21%)]\tLoss: 0.131374\n",
      "Train Epoch: 4 [19200/60000 (32%)]\tLoss: 0.098069\n",
      "Train Epoch: 4 [25600/60000 (43%)]\tLoss: 0.122984\n",
      "Train Epoch: 4 [32000/60000 (53%)]\tLoss: 0.112087\n",
      "Train Epoch: 4 [38400/60000 (64%)]\tLoss: 0.065588\n",
      "Train Epoch: 4 [44800/60000 (75%)]\tLoss: 0.121216\n",
      "Train Epoch: 4 [51200/60000 (85%)]\tLoss: 0.170762\n",
      "Train Epoch: 4 [57600/60000 (96%)]\tLoss: 0.051081\n",
      "\n",
      "Train set: Average loss: 0.0049, Accuracy: 58114/60000 (96.9%)\n",
      "\n",
      "\n",
      "Test set: Average loss: 0.0744, Accuracy: 58635/60000 (97.725%)\n",
      "\n",
      "Train Epoch: 5 [0/60000 (0%)]\tLoss: 0.043786\n",
      "Train Epoch: 5 [6400/60000 (11%)]\tLoss: 0.108025\n",
      "Train Epoch: 5 [12800/60000 (21%)]\tLoss: 0.119933\n",
      "Train Epoch: 5 [19200/60000 (32%)]\tLoss: 0.008146\n",
      "Train Epoch: 5 [25600/60000 (43%)]\tLoss: 0.137359\n",
      "Train Epoch: 5 [32000/60000 (53%)]\tLoss: 0.058661\n",
      "Train Epoch: 5 [38400/60000 (64%)]\tLoss: 0.094163\n",
      "Train Epoch: 5 [44800/60000 (75%)]\tLoss: 0.172038\n",
      "Train Epoch: 5 [51200/60000 (85%)]\tLoss: 0.138569\n",
      "Train Epoch: 5 [57600/60000 (96%)]\tLoss: 0.055042\n",
      "\n",
      "Train set: Average loss: 0.2680, Accuracy: 58364/60000 (97.3%)\n",
      "\n",
      "\n",
      "Test set: Average loss: 0.0852, Accuracy: 58402/60000 (97.337%)\n",
      "\n",
      "Train Epoch: 6 [0/60000 (0%)]\tLoss: 0.016615\n",
      "Train Epoch: 6 [6400/60000 (11%)]\tLoss: 0.047242\n",
      "Train Epoch: 6 [12800/60000 (21%)]\tLoss: 0.022000\n",
      "Train Epoch: 6 [19200/60000 (32%)]\tLoss: 0.067189\n",
      "Train Epoch: 6 [25600/60000 (43%)]\tLoss: 0.074099\n",
      "Train Epoch: 6 [32000/60000 (53%)]\tLoss: 0.100838\n",
      "Train Epoch: 6 [38400/60000 (64%)]\tLoss: 0.046017\n",
      "Train Epoch: 6 [44800/60000 (75%)]\tLoss: 0.014939\n",
      "Train Epoch: 6 [51200/60000 (85%)]\tLoss: 0.033382\n",
      "Train Epoch: 6 [57600/60000 (96%)]\tLoss: 0.030102\n",
      "\n",
      "Train set: Average loss: 0.1422, Accuracy: 58562/60000 (97.6%)\n",
      "\n",
      "\n",
      "Test set: Average loss: 0.0788, Accuracy: 58490/60000 (97.483%)\n",
      "\n",
      "Train Epoch: 7 [0/60000 (0%)]\tLoss: 0.064020\n",
      "Train Epoch: 7 [6400/60000 (11%)]\tLoss: 0.048602\n",
      "Train Epoch: 7 [12800/60000 (21%)]\tLoss: 0.093761\n",
      "Train Epoch: 7 [19200/60000 (32%)]\tLoss: 0.036009\n",
      "Train Epoch: 7 [25600/60000 (43%)]\tLoss: 0.112504\n",
      "Train Epoch: 7 [32000/60000 (53%)]\tLoss: 0.039710\n",
      "Train Epoch: 7 [38400/60000 (64%)]\tLoss: 0.113052\n",
      "Train Epoch: 7 [44800/60000 (75%)]\tLoss: 0.073701\n",
      "Train Epoch: 7 [51200/60000 (85%)]\tLoss: 0.026771\n",
      "Train Epoch: 7 [57600/60000 (96%)]\tLoss: 0.175640\n",
      "\n",
      "Train set: Average loss: 0.0433, Accuracy: 58700/60000 (97.8%)\n",
      "\n",
      "\n",
      "Test set: Average loss: 0.0618, Accuracy: 58828/60000 (98.047%)\n",
      "\n",
      "Train Epoch: 8 [0/60000 (0%)]\tLoss: 0.097079\n",
      "Train Epoch: 8 [6400/60000 (11%)]\tLoss: 0.025202\n",
      "Train Epoch: 8 [12800/60000 (21%)]\tLoss: 0.058739\n",
      "Train Epoch: 8 [19200/60000 (32%)]\tLoss: 0.047656\n",
      "Train Epoch: 8 [25600/60000 (43%)]\tLoss: 0.047810\n",
      "Train Epoch: 8 [32000/60000 (53%)]\tLoss: 0.091452\n",
      "Train Epoch: 8 [38400/60000 (64%)]\tLoss: 0.099643\n",
      "Train Epoch: 8 [44800/60000 (75%)]\tLoss: 0.004334\n",
      "Train Epoch: 8 [51200/60000 (85%)]\tLoss: 0.093075\n",
      "Train Epoch: 8 [57600/60000 (96%)]\tLoss: 0.067522\n",
      "\n",
      "Train set: Average loss: 0.0937, Accuracy: 58826/60000 (98.0%)\n",
      "\n",
      "\n",
      "Test set: Average loss: 0.0451, Accuracy: 59157/60000 (98.595%)\n",
      "\n",
      "Train Epoch: 9 [0/60000 (0%)]\tLoss: 0.055004\n",
      "Train Epoch: 9 [6400/60000 (11%)]\tLoss: 0.021645\n",
      "Train Epoch: 9 [12800/60000 (21%)]\tLoss: 0.004192\n",
      "Train Epoch: 9 [19200/60000 (32%)]\tLoss: 0.012225\n",
      "Train Epoch: 9 [25600/60000 (43%)]\tLoss: 0.077152\n",
      "Train Epoch: 9 [32000/60000 (53%)]\tLoss: 0.018744\n",
      "Train Epoch: 9 [38400/60000 (64%)]\tLoss: 0.089026\n",
      "Train Epoch: 9 [44800/60000 (75%)]\tLoss: 0.022917\n",
      "Train Epoch: 9 [51200/60000 (85%)]\tLoss: 0.042505\n",
      "Train Epoch: 9 [57600/60000 (96%)]\tLoss: 0.058318\n",
      "\n",
      "Train set: Average loss: 0.0752, Accuracy: 58946/60000 (98.2%)\n",
      "\n",
      "\n",
      "Test set: Average loss: 0.0452, Accuracy: 59104/60000 (98.507%)\n",
      "\n",
      "Train Epoch: 10 [0/60000 (0%)]\tLoss: 0.077168\n",
      "Train Epoch: 10 [6400/60000 (11%)]\tLoss: 0.012077\n",
      "Train Epoch: 10 [12800/60000 (21%)]\tLoss: 0.049447\n",
      "Train Epoch: 10 [19200/60000 (32%)]\tLoss: 0.025250\n",
      "Train Epoch: 10 [25600/60000 (43%)]\tLoss: 0.006046\n",
      "Train Epoch: 10 [32000/60000 (53%)]\tLoss: 0.003651\n",
      "Train Epoch: 10 [38400/60000 (64%)]\tLoss: 0.271354\n",
      "Train Epoch: 10 [44800/60000 (75%)]\tLoss: 0.053679\n",
      "Train Epoch: 10 [51200/60000 (85%)]\tLoss: 0.030688\n",
      "Train Epoch: 10 [57600/60000 (96%)]\tLoss: 0.039842\n",
      "\n",
      "Train set: Average loss: 0.0018, Accuracy: 59025/60000 (98.4%)\n",
      "\n",
      "\n",
      "Test set: Average loss: 0.0378, Accuracy: 59243/60000 (98.738%)\n",
      "\n",
      "Training is finished.\n"
     ]
    }
   ],
   "source": [
    "#########################################################################\n",
    "#TODO: modify the parameters below to see which setting that you can get to 97%\n",
    "#########################################################################\n",
    "nLayer = 5\n",
    "nHidden = 50\n",
    "act_fn = nn.ReLU()\n",
    "\n",
    "# reinitialize the mlp, so we can play with parameters right here\n",
    "mlp = MLP(nInput, nOutput, nLayer, nHidden, act_fn)\n",
    "optimizer = optim.Adam(mlp.parameters())\n",
    "\n",
    "epochs = 10\n",
    "for epoch in range(1, epochs + 1):\n",
    "    train(mlp, dl_train, optimizer, epoch, log_interval=100)\n",
    "    test(mlp, dl_test)\n",
    "\n",
    "print ('Training is finished.')"
   ]
  },
  {
   "cell_type": "markdown",
   "metadata": {},
   "source": [
    "Before you move on to the next exercise, you can further play with the other parameters (learning rate, epochs, a different optimizer, etc.) to get a feeling what can improve or hamper performance. "
   ]
  },
  {
   "cell_type": "markdown",
   "metadata": {},
   "source": [
    "## CNN\n",
    "Alright, we matched our prior performance. Let's surpass it! You will soon see the power of CNN by building a small one yourself. The structure should be as follows\n",
    "\n",
    "| CNN Architecture                             \t|\n",
    "|----------------------------------------------\t|\n",
    "| Conv: $C_{in}=1, C_{out}=32, K=3, S=1, P=0$  \t|\n",
    "| ReLU                                         \t|\n",
    "| Conv: $C_{in}=32, C_{out}=64, K=3, S=1, P=0$ \t|\n",
    "| ReLU                                         \t|\n",
    "| MaxPool2d: $K=2, S=2, P=0$                   \t|\n",
    "| Dropout: $p=0.25$                            \t|\n",
    "| Linear: $C_{in}=9216, C_{out}=128$           \t|\n",
    "| ReLU                                         \t|\n",
    "| Dropout: $p=0.5$                             \t|\n",
    "| Linear: $C_{in}=128, C_{out}=10$             \t|\n",
    "\n",
    "The layers you will need are: \n",
    "\n",
    "`nn.Conv2d,  nn.Linear,  nn.Dropout, nn.MaxPool2d, nn.Flatten`\n",
    "\n",
    "For layers without parameters you can alternatively use function in the forward pass:  \n",
    "\n",
    "`F.max_pool2d, torch.flatten`"
   ]
  },
  {
   "cell_type": "code",
   "execution_count": 20,
   "metadata": {},
   "outputs": [],
   "source": [
    "#########################################################################\n",
    "# TODO: Implement the __init__ and forward method of the CNN class. \n",
    "# Hint: do not forget to flatten the appropriate dimension after the convolutional blocks. \n",
    "# A linear layers expect input of the size (B, H) with batch size B and feature size H\n",
    "#########################################################################\n",
    "\n",
    "class CNN(nn.Module):\n",
    "    def __init__(self):\n",
    "        super(CNN, self).__init__()\n",
    "        self.model = nn.Sequential(nn.Conv2d(1, 32, 3, stride=1),\n",
    "                                   nn.ReLU(),\n",
    "                                   nn.Conv2d(32, 64, 3, stride=1),\n",
    "                                   nn.ReLU(),\n",
    "                                   nn.MaxPool2d(2, stride=2),\n",
    "                                   nn.Dropout(p=0.25),\n",
    "                                   nn.Flatten(), \n",
    "                                   nn.Linear(9216, 128),\n",
    "                                   nn.ReLU(),\n",
    "                                   nn.Dropout(p=0.5),\n",
    "                                   nn.Linear(128, 10))\n",
    "\n",
    "    def forward(self, x):\n",
    "        return self.model(x)"
   ]
  },
  {
   "cell_type": "code",
   "execution_count": 21,
   "metadata": {},
   "outputs": [
    {
     "name": "stderr",
     "output_type": "stream",
     "text": [
      "[W NNPACK.cpp:51] Could not initialize NNPACK! Reason: Unsupported hardware.\n"
     ]
    },
    {
     "data": {
      "text/plain": [
       "torch.Size([1, 10])"
      ]
     },
     "execution_count": 21,
     "metadata": {},
     "output_type": "execute_result"
    }
   ],
   "source": [
    "# Let's test if the forward pass works\n",
    "# this should print torch.Size([1, 10])\n",
    "t = torch.randn(1,1,28,28)\n",
    "cnn = CNN()\n",
    "cnn(t).shape"
   ]
  },
  {
   "cell_type": "markdown",
   "metadata": {},
   "source": [
    "Alright, let's train!"
   ]
  },
  {
   "cell_type": "code",
   "execution_count": 22,
   "metadata": {},
   "outputs": [],
   "source": [
    "optimizer = optim.Adam(cnn.parameters())"
   ]
  },
  {
   "cell_type": "code",
   "execution_count": 23,
   "metadata": {
    "scrolled": true
   },
   "outputs": [
    {
     "name": "stdout",
     "output_type": "stream",
     "text": [
      "Train Epoch: 1 [0/60000 (0%)]\tLoss: 2.289353\n",
      "Train Epoch: 1 [6400/60000 (11%)]\tLoss: 0.329890\n",
      "Train Epoch: 1 [12800/60000 (21%)]\tLoss: 0.074175\n",
      "Train Epoch: 1 [19200/60000 (32%)]\tLoss: 0.114800\n",
      "Train Epoch: 1 [25600/60000 (43%)]\tLoss: 0.129927\n",
      "Train Epoch: 1 [32000/60000 (53%)]\tLoss: 0.201719\n",
      "Train Epoch: 1 [38400/60000 (64%)]\tLoss: 0.242467\n",
      "Train Epoch: 1 [44800/60000 (75%)]\tLoss: 0.091062\n",
      "Train Epoch: 1 [51200/60000 (85%)]\tLoss: 0.125111\n",
      "Train Epoch: 1 [57600/60000 (96%)]\tLoss: 0.048050\n",
      "\n",
      "Train set: Average loss: 0.0873, Accuracy: 56557/60000 (94.3%)\n",
      "\n",
      "\n",
      "Test set: Average loss: 0.0423, Accuracy: 59205/60000 (98.675%)\n",
      "\n",
      "Train Epoch: 2 [0/60000 (0%)]\tLoss: 0.172999\n",
      "Train Epoch: 2 [6400/60000 (11%)]\tLoss: 0.070199\n",
      "Train Epoch: 2 [12800/60000 (21%)]\tLoss: 0.031914\n",
      "Train Epoch: 2 [19200/60000 (32%)]\tLoss: 0.045111\n",
      "Train Epoch: 2 [25600/60000 (43%)]\tLoss: 0.045074\n",
      "Train Epoch: 2 [32000/60000 (53%)]\tLoss: 0.285695\n",
      "Train Epoch: 2 [38400/60000 (64%)]\tLoss: 0.081245\n",
      "Train Epoch: 2 [44800/60000 (75%)]\tLoss: 0.086749\n",
      "Train Epoch: 2 [51200/60000 (85%)]\tLoss: 0.077254\n",
      "Train Epoch: 2 [57600/60000 (96%)]\tLoss: 0.227261\n",
      "\n",
      "Train set: Average loss: 0.0360, Accuracy: 58536/60000 (97.6%)\n",
      "\n",
      "\n",
      "Test set: Average loss: 0.0305, Accuracy: 59442/60000 (99.070%)\n",
      "\n",
      "Train Epoch: 3 [0/60000 (0%)]\tLoss: 0.040872\n",
      "Train Epoch: 3 [6400/60000 (11%)]\tLoss: 0.170022\n",
      "Train Epoch: 3 [12800/60000 (21%)]\tLoss: 0.070589\n",
      "Train Epoch: 3 [19200/60000 (32%)]\tLoss: 0.114854\n",
      "Train Epoch: 3 [25600/60000 (43%)]\tLoss: 0.068589\n",
      "Train Epoch: 3 [32000/60000 (53%)]\tLoss: 0.065888\n",
      "Train Epoch: 3 [38400/60000 (64%)]\tLoss: 0.029418\n",
      "Train Epoch: 3 [44800/60000 (75%)]\tLoss: 0.193918\n",
      "Train Epoch: 3 [51200/60000 (85%)]\tLoss: 0.051672\n",
      "Train Epoch: 3 [57600/60000 (96%)]\tLoss: 0.048624\n",
      "\n",
      "Train set: Average loss: 0.0100, Accuracy: 58891/60000 (98.2%)\n",
      "\n",
      "\n",
      "Test set: Average loss: 0.0224, Accuracy: 59569/60000 (99.282%)\n",
      "\n",
      "Train Epoch: 4 [0/60000 (0%)]\tLoss: 0.083059\n",
      "Train Epoch: 4 [6400/60000 (11%)]\tLoss: 0.013042\n",
      "Train Epoch: 4 [12800/60000 (21%)]\tLoss: 0.026884\n",
      "Train Epoch: 4 [19200/60000 (32%)]\tLoss: 0.028478\n",
      "Train Epoch: 4 [25600/60000 (43%)]\tLoss: 0.089300\n",
      "Train Epoch: 4 [32000/60000 (53%)]\tLoss: 0.042231\n",
      "Train Epoch: 4 [38400/60000 (64%)]\tLoss: 0.004036\n",
      "Train Epoch: 4 [44800/60000 (75%)]\tLoss: 0.128485\n",
      "Train Epoch: 4 [51200/60000 (85%)]\tLoss: 0.004039\n",
      "Train Epoch: 4 [57600/60000 (96%)]\tLoss: 0.025769\n",
      "\n",
      "Train set: Average loss: 0.0489, Accuracy: 59023/60000 (98.4%)\n",
      "\n",
      "\n",
      "Test set: Average loss: 0.0154, Accuracy: 59701/60000 (99.502%)\n",
      "\n",
      "Train Epoch: 5 [0/60000 (0%)]\tLoss: 0.017711\n",
      "Train Epoch: 5 [6400/60000 (11%)]\tLoss: 0.000830\n",
      "Train Epoch: 5 [12800/60000 (21%)]\tLoss: 0.004967\n",
      "Train Epoch: 5 [19200/60000 (32%)]\tLoss: 0.051317\n",
      "Train Epoch: 5 [25600/60000 (43%)]\tLoss: 0.079484\n",
      "Train Epoch: 5 [32000/60000 (53%)]\tLoss: 0.013974\n",
      "Train Epoch: 5 [38400/60000 (64%)]\tLoss: 0.122535\n",
      "Train Epoch: 5 [44800/60000 (75%)]\tLoss: 0.004469\n",
      "Train Epoch: 5 [51200/60000 (85%)]\tLoss: 0.008607\n",
      "Train Epoch: 5 [57600/60000 (96%)]\tLoss: 0.052867\n",
      "\n",
      "Train set: Average loss: 0.0410, Accuracy: 59134/60000 (98.6%)\n",
      "\n",
      "\n",
      "Test set: Average loss: 0.0117, Accuracy: 59772/60000 (99.620%)\n",
      "\n"
     ]
    }
   ],
   "source": [
    "epochs = 5\n",
    "for epoch in range(1, epochs + 1):\n",
    "    train(cnn, dl_train, optimizer, epoch, log_interval=100)\n",
    "    test(cnn, dl_test)\n"
   ]
  },
  {
   "cell_type": "markdown",
   "metadata": {},
   "source": [
    "This will probably take a bit longer to train, as a convolutional network is not very efficient on a CPU. The current settings should get you around **99%** accuracy. Nice! \n",
    "Again, you should try different hyperparameters and see how far you can push the performance."
   ]
  },
  {
   "cell_type": "markdown",
   "metadata": {},
   "source": [
    "### Inline Question\n",
    "\n",
    "If your model weight is randomly initalized, and no training is done as above. What accuracy do you think the model will get for a 10-class classification task in theory?\n",
    "\n",
    "**Your answer**: \n",
    "1/10, since no training corresponds to random classification. The classes are 10, so the probability of getting the right one is 10% for each image."
   ]
  },
  {
   "cell_type": "markdown",
   "metadata": {},
   "source": [
    "## Training on CIFAR10\n",
    "\n",
    "Now we are going to move to something more challenging - CIFAR10. We can reuse most of the code above. Thankfully, CIFAR is also a popular dataset, so we can again make use of a PyTorch convience function."
   ]
  },
  {
   "cell_type": "code",
   "execution_count": 24,
   "metadata": {},
   "outputs": [
    {
     "name": "stdout",
     "output_type": "stream",
     "text": [
      "Files already downloaded and verified\n"
     ]
    }
   ],
   "source": [
    "ds_train = datasets.CIFAR10(root='./data', train=True, download=True)"
   ]
  },
  {
   "cell_type": "markdown",
   "metadata": {},
   "source": [
    "This dataset is not normalized yet, so we need to calculate the normalization constants."
   ]
  },
  {
   "cell_type": "code",
   "execution_count": 25,
   "metadata": {},
   "outputs": [],
   "source": [
    "ims_train = torch.tensor(ds_train.data)\n",
    "ims_train = ims_train.float() / 255."
   ]
  },
  {
   "cell_type": "code",
   "execution_count": 26,
   "metadata": {},
   "outputs": [
    {
     "data": {
      "text/plain": [
       "tensor([0.2470, 0.2435, 0.2616])"
      ]
     },
     "execution_count": 26,
     "metadata": {},
     "output_type": "execute_result"
    }
   ],
   "source": [
    "ims_train.std((0,1,2))"
   ]
  },
  {
   "cell_type": "code",
   "execution_count": 27,
   "metadata": {},
   "outputs": [],
   "source": [
    "#########################################################################\n",
    "# TODO: calculate the mean and std of CIFAR\n",
    "# hint: We want the mean and std of the channel dimension, these should\n",
    "# be 3 dimensional\n",
    "#########################################################################\n",
    "mu = torch.mean(ims_train, dim=(0,1,2))\n",
    "std = torch.std(ims_train, dim=(0,1,2))"
   ]
  },
  {
   "cell_type": "code",
   "execution_count": 28,
   "metadata": {},
   "outputs": [
    {
     "data": {
      "text/plain": [
       "tensor([0.4914, 0.4822, 0.4465])"
      ]
     },
     "execution_count": 28,
     "metadata": {},
     "output_type": "execute_result"
    }
   ],
   "source": [
    "torch.mean(ims_train, dim=(0,1,2))"
   ]
  },
  {
   "cell_type": "markdown",
   "metadata": {},
   "source": [
    "For CIFAR we want to make use of data augmentation to improve generalization. You will find all data augmentations data are included in torchvision here:\n",
    "\n",
    "https://pytorch.org/docs/stable/torchvision/transforms.html"
   ]
  },
  {
   "cell_type": "code",
   "execution_count": 29,
   "metadata": {},
   "outputs": [
    {
     "name": "stdout",
     "output_type": "stream",
     "text": [
      "Files already downloaded and verified\n",
      "Files already downloaded and verified\n"
     ]
    }
   ],
   "source": [
    "BATCH_SIZE = 128\n",
    "NUM_WORKERS = 4 # if you encounter some unexpected errors in data loading, try setting `NUM_WORKERS = 0`\n",
    "#########################################################################\n",
    "# TODO: Implement the proper transforms for the training and test dataloaders. \n",
    "# Then build train and test dataloaders with batch size 128 and 4 workers\n",
    "#\n",
    "# Train: \n",
    "# - Apply a random crop with size 32 on a padded version of the image with P=4\n",
    "# - Flip the image horizontally with a probability of 40 %\n",
    "# - Transform to a Tensor\n",
    "# - Normalize with the constants calculated above\n",
    "# Test: \n",
    "# - Transform to a Tensor\n",
    "# - Normalize with the constants calculated above\n",
    "#########################################################################\n",
    "transform_train = transforms.Compose([transforms.RandomCrop(32, 4), \n",
    "                                      transforms.RandomHorizontalFlip(0.4), \n",
    "                                      transforms.ToTensor(), \n",
    "                                      transforms.Normalize(mu, std)])\n",
    "transform_test = transforms.Compose([transforms.ToTensor(), transforms.Normalize(mu, std)])\n",
    "\n",
    "ds_train = datasets.CIFAR10('./data', train=True, download=True, transform=transform_train)\n",
    "ds_test = datasets.CIFAR10('./data', train=False, download=True, transform=transform_test)\n",
    "\n",
    "dl_train = DataLoader(ds_train, batch_size=BATCH_SIZE, num_workers=NUM_WORKERS, shuffle=True)\n",
    "dl_test = DataLoader(ds_train, batch_size=BATCH_SIZE, num_workers=NUM_WORKERS)"
   ]
  },
  {
   "cell_type": "markdown",
   "metadata": {},
   "source": [
    "Setting up the  optimizer, this time we use SGD. The scheduler adapts the learning rate during traing (you can ignore it)"
   ]
  },
  {
   "cell_type": "code",
   "execution_count": 30,
   "metadata": {},
   "outputs": [],
   "source": [
    "cnn = CNN()\n",
    "optimizer = optim.SGD(cnn.parameters(), lr=0.1, momentum=0.9, weight_decay=5e-4)\n",
    "scheduler = torch.optim.lr_scheduler.CosineAnnealingLR(optimizer, T_max=200)"
   ]
  },
  {
   "cell_type": "code",
   "execution_count": 31,
   "metadata": {
    "scrolled": true
   },
   "outputs": [
    {
     "ename": "RuntimeError",
     "evalue": "Given groups=1, weight of size [32, 1, 3, 3], expected input[128, 3, 32, 32] to have 1 channels, but got 3 channels instead",
     "output_type": "error",
     "traceback": [
      "\u001b[0;31m---------------------------------------------------------------------------\u001b[0m",
      "\u001b[0;31mRuntimeError\u001b[0m                              Traceback (most recent call last)",
      "Input \u001b[0;32mIn [31]\u001b[0m, in \u001b[0;36m<cell line: 2>\u001b[0;34m()\u001b[0m\n\u001b[1;32m      1\u001b[0m epochs \u001b[38;5;241m=\u001b[39m \u001b[38;5;241m5\u001b[39m\n\u001b[1;32m      2\u001b[0m \u001b[38;5;28;01mfor\u001b[39;00m epoch \u001b[38;5;129;01min\u001b[39;00m \u001b[38;5;28mrange\u001b[39m(\u001b[38;5;241m1\u001b[39m, epochs \u001b[38;5;241m+\u001b[39m \u001b[38;5;241m1\u001b[39m):\n\u001b[0;32m----> 3\u001b[0m     \u001b[43mtrain\u001b[49m\u001b[43m(\u001b[49m\u001b[43mcnn\u001b[49m\u001b[43m,\u001b[49m\u001b[43m \u001b[49m\u001b[43mdl_train\u001b[49m\u001b[43m,\u001b[49m\u001b[43m \u001b[49m\u001b[43moptimizer\u001b[49m\u001b[43m,\u001b[49m\u001b[43m \u001b[49m\u001b[43mepoch\u001b[49m\u001b[43m,\u001b[49m\u001b[43m \u001b[49m\u001b[43mlog_interval\u001b[49m\u001b[38;5;241;43m=\u001b[39;49m\u001b[38;5;241;43m100\u001b[39;49m\u001b[43m)\u001b[49m\n\u001b[1;32m      4\u001b[0m     test(cnn, dl_test)    \n\u001b[1;32m      5\u001b[0m     scheduler\u001b[38;5;241m.\u001b[39mstep()\n",
      "Input \u001b[0;32mIn [16]\u001b[0m, in \u001b[0;36mtrain\u001b[0;34m(model, dl_train, optimizer, epoch, log_interval, device)\u001b[0m\n\u001b[1;32m     14\u001b[0m optimizer\u001b[38;5;241m.\u001b[39mzero_grad()         \n\u001b[1;32m     16\u001b[0m \u001b[38;5;66;03m##### implement this part #####\u001b[39;00m\n\u001b[0;32m---> 17\u001b[0m output \u001b[38;5;241m=\u001b[39m \u001b[43mmodel\u001b[49m\u001b[43m(\u001b[49m\u001b[43mdata\u001b[49m\u001b[43m)\u001b[49m\n\u001b[1;32m     18\u001b[0m loss \u001b[38;5;241m=\u001b[39m F\u001b[38;5;241m.\u001b[39mcross_entropy(output, target)\n\u001b[1;32m     19\u001b[0m loss\u001b[38;5;241m.\u001b[39mbackward()\n",
      "File \u001b[0;32m~/opt/anaconda3/envs/dl4cv/lib/python3.9/site-packages/torch/nn/modules/module.py:1130\u001b[0m, in \u001b[0;36mModule._call_impl\u001b[0;34m(self, *input, **kwargs)\u001b[0m\n\u001b[1;32m   1126\u001b[0m \u001b[38;5;66;03m# If we don't have any hooks, we want to skip the rest of the logic in\u001b[39;00m\n\u001b[1;32m   1127\u001b[0m \u001b[38;5;66;03m# this function, and just call forward.\u001b[39;00m\n\u001b[1;32m   1128\u001b[0m \u001b[38;5;28;01mif\u001b[39;00m \u001b[38;5;129;01mnot\u001b[39;00m (\u001b[38;5;28mself\u001b[39m\u001b[38;5;241m.\u001b[39m_backward_hooks \u001b[38;5;129;01mor\u001b[39;00m \u001b[38;5;28mself\u001b[39m\u001b[38;5;241m.\u001b[39m_forward_hooks \u001b[38;5;129;01mor\u001b[39;00m \u001b[38;5;28mself\u001b[39m\u001b[38;5;241m.\u001b[39m_forward_pre_hooks \u001b[38;5;129;01mor\u001b[39;00m _global_backward_hooks\n\u001b[1;32m   1129\u001b[0m         \u001b[38;5;129;01mor\u001b[39;00m _global_forward_hooks \u001b[38;5;129;01mor\u001b[39;00m _global_forward_pre_hooks):\n\u001b[0;32m-> 1130\u001b[0m     \u001b[38;5;28;01mreturn\u001b[39;00m \u001b[43mforward_call\u001b[49m\u001b[43m(\u001b[49m\u001b[38;5;241;43m*\u001b[39;49m\u001b[38;5;28;43minput\u001b[39;49m\u001b[43m,\u001b[49m\u001b[43m \u001b[49m\u001b[38;5;241;43m*\u001b[39;49m\u001b[38;5;241;43m*\u001b[39;49m\u001b[43mkwargs\u001b[49m\u001b[43m)\u001b[49m\n\u001b[1;32m   1131\u001b[0m \u001b[38;5;66;03m# Do not call functions when jit is used\u001b[39;00m\n\u001b[1;32m   1132\u001b[0m full_backward_hooks, non_full_backward_hooks \u001b[38;5;241m=\u001b[39m [], []\n",
      "Input \u001b[0;32mIn [20]\u001b[0m, in \u001b[0;36mCNN.forward\u001b[0;34m(self, x)\u001b[0m\n\u001b[1;32m     22\u001b[0m \u001b[38;5;28;01mdef\u001b[39;00m \u001b[38;5;21mforward\u001b[39m(\u001b[38;5;28mself\u001b[39m, x):\n\u001b[0;32m---> 23\u001b[0m     \u001b[38;5;28;01mreturn\u001b[39;00m \u001b[38;5;28;43mself\u001b[39;49m\u001b[38;5;241;43m.\u001b[39;49m\u001b[43mmodel\u001b[49m\u001b[43m(\u001b[49m\u001b[43mx\u001b[49m\u001b[43m)\u001b[49m\n",
      "File \u001b[0;32m~/opt/anaconda3/envs/dl4cv/lib/python3.9/site-packages/torch/nn/modules/module.py:1130\u001b[0m, in \u001b[0;36mModule._call_impl\u001b[0;34m(self, *input, **kwargs)\u001b[0m\n\u001b[1;32m   1126\u001b[0m \u001b[38;5;66;03m# If we don't have any hooks, we want to skip the rest of the logic in\u001b[39;00m\n\u001b[1;32m   1127\u001b[0m \u001b[38;5;66;03m# this function, and just call forward.\u001b[39;00m\n\u001b[1;32m   1128\u001b[0m \u001b[38;5;28;01mif\u001b[39;00m \u001b[38;5;129;01mnot\u001b[39;00m (\u001b[38;5;28mself\u001b[39m\u001b[38;5;241m.\u001b[39m_backward_hooks \u001b[38;5;129;01mor\u001b[39;00m \u001b[38;5;28mself\u001b[39m\u001b[38;5;241m.\u001b[39m_forward_hooks \u001b[38;5;129;01mor\u001b[39;00m \u001b[38;5;28mself\u001b[39m\u001b[38;5;241m.\u001b[39m_forward_pre_hooks \u001b[38;5;129;01mor\u001b[39;00m _global_backward_hooks\n\u001b[1;32m   1129\u001b[0m         \u001b[38;5;129;01mor\u001b[39;00m _global_forward_hooks \u001b[38;5;129;01mor\u001b[39;00m _global_forward_pre_hooks):\n\u001b[0;32m-> 1130\u001b[0m     \u001b[38;5;28;01mreturn\u001b[39;00m \u001b[43mforward_call\u001b[49m\u001b[43m(\u001b[49m\u001b[38;5;241;43m*\u001b[39;49m\u001b[38;5;28;43minput\u001b[39;49m\u001b[43m,\u001b[49m\u001b[43m \u001b[49m\u001b[38;5;241;43m*\u001b[39;49m\u001b[38;5;241;43m*\u001b[39;49m\u001b[43mkwargs\u001b[49m\u001b[43m)\u001b[49m\n\u001b[1;32m   1131\u001b[0m \u001b[38;5;66;03m# Do not call functions when jit is used\u001b[39;00m\n\u001b[1;32m   1132\u001b[0m full_backward_hooks, non_full_backward_hooks \u001b[38;5;241m=\u001b[39m [], []\n",
      "File \u001b[0;32m~/opt/anaconda3/envs/dl4cv/lib/python3.9/site-packages/torch/nn/modules/container.py:139\u001b[0m, in \u001b[0;36mSequential.forward\u001b[0;34m(self, input)\u001b[0m\n\u001b[1;32m    137\u001b[0m \u001b[38;5;28;01mdef\u001b[39;00m \u001b[38;5;21mforward\u001b[39m(\u001b[38;5;28mself\u001b[39m, \u001b[38;5;28minput\u001b[39m):\n\u001b[1;32m    138\u001b[0m     \u001b[38;5;28;01mfor\u001b[39;00m module \u001b[38;5;129;01min\u001b[39;00m \u001b[38;5;28mself\u001b[39m:\n\u001b[0;32m--> 139\u001b[0m         \u001b[38;5;28minput\u001b[39m \u001b[38;5;241m=\u001b[39m \u001b[43mmodule\u001b[49m\u001b[43m(\u001b[49m\u001b[38;5;28;43minput\u001b[39;49m\u001b[43m)\u001b[49m\n\u001b[1;32m    140\u001b[0m     \u001b[38;5;28;01mreturn\u001b[39;00m \u001b[38;5;28minput\u001b[39m\n",
      "File \u001b[0;32m~/opt/anaconda3/envs/dl4cv/lib/python3.9/site-packages/torch/nn/modules/module.py:1130\u001b[0m, in \u001b[0;36mModule._call_impl\u001b[0;34m(self, *input, **kwargs)\u001b[0m\n\u001b[1;32m   1126\u001b[0m \u001b[38;5;66;03m# If we don't have any hooks, we want to skip the rest of the logic in\u001b[39;00m\n\u001b[1;32m   1127\u001b[0m \u001b[38;5;66;03m# this function, and just call forward.\u001b[39;00m\n\u001b[1;32m   1128\u001b[0m \u001b[38;5;28;01mif\u001b[39;00m \u001b[38;5;129;01mnot\u001b[39;00m (\u001b[38;5;28mself\u001b[39m\u001b[38;5;241m.\u001b[39m_backward_hooks \u001b[38;5;129;01mor\u001b[39;00m \u001b[38;5;28mself\u001b[39m\u001b[38;5;241m.\u001b[39m_forward_hooks \u001b[38;5;129;01mor\u001b[39;00m \u001b[38;5;28mself\u001b[39m\u001b[38;5;241m.\u001b[39m_forward_pre_hooks \u001b[38;5;129;01mor\u001b[39;00m _global_backward_hooks\n\u001b[1;32m   1129\u001b[0m         \u001b[38;5;129;01mor\u001b[39;00m _global_forward_hooks \u001b[38;5;129;01mor\u001b[39;00m _global_forward_pre_hooks):\n\u001b[0;32m-> 1130\u001b[0m     \u001b[38;5;28;01mreturn\u001b[39;00m \u001b[43mforward_call\u001b[49m\u001b[43m(\u001b[49m\u001b[38;5;241;43m*\u001b[39;49m\u001b[38;5;28;43minput\u001b[39;49m\u001b[43m,\u001b[49m\u001b[43m \u001b[49m\u001b[38;5;241;43m*\u001b[39;49m\u001b[38;5;241;43m*\u001b[39;49m\u001b[43mkwargs\u001b[49m\u001b[43m)\u001b[49m\n\u001b[1;32m   1131\u001b[0m \u001b[38;5;66;03m# Do not call functions when jit is used\u001b[39;00m\n\u001b[1;32m   1132\u001b[0m full_backward_hooks, non_full_backward_hooks \u001b[38;5;241m=\u001b[39m [], []\n",
      "File \u001b[0;32m~/opt/anaconda3/envs/dl4cv/lib/python3.9/site-packages/torch/nn/modules/conv.py:457\u001b[0m, in \u001b[0;36mConv2d.forward\u001b[0;34m(self, input)\u001b[0m\n\u001b[1;32m    456\u001b[0m \u001b[38;5;28;01mdef\u001b[39;00m \u001b[38;5;21mforward\u001b[39m(\u001b[38;5;28mself\u001b[39m, \u001b[38;5;28minput\u001b[39m: Tensor) \u001b[38;5;241m-\u001b[39m\u001b[38;5;241m>\u001b[39m Tensor:\n\u001b[0;32m--> 457\u001b[0m     \u001b[38;5;28;01mreturn\u001b[39;00m \u001b[38;5;28;43mself\u001b[39;49m\u001b[38;5;241;43m.\u001b[39;49m\u001b[43m_conv_forward\u001b[49m\u001b[43m(\u001b[49m\u001b[38;5;28;43minput\u001b[39;49m\u001b[43m,\u001b[49m\u001b[43m \u001b[49m\u001b[38;5;28;43mself\u001b[39;49m\u001b[38;5;241;43m.\u001b[39;49m\u001b[43mweight\u001b[49m\u001b[43m,\u001b[49m\u001b[43m \u001b[49m\u001b[38;5;28;43mself\u001b[39;49m\u001b[38;5;241;43m.\u001b[39;49m\u001b[43mbias\u001b[49m\u001b[43m)\u001b[49m\n",
      "File \u001b[0;32m~/opt/anaconda3/envs/dl4cv/lib/python3.9/site-packages/torch/nn/modules/conv.py:453\u001b[0m, in \u001b[0;36mConv2d._conv_forward\u001b[0;34m(self, input, weight, bias)\u001b[0m\n\u001b[1;32m    449\u001b[0m \u001b[38;5;28;01mif\u001b[39;00m \u001b[38;5;28mself\u001b[39m\u001b[38;5;241m.\u001b[39mpadding_mode \u001b[38;5;241m!=\u001b[39m \u001b[38;5;124m'\u001b[39m\u001b[38;5;124mzeros\u001b[39m\u001b[38;5;124m'\u001b[39m:\n\u001b[1;32m    450\u001b[0m     \u001b[38;5;28;01mreturn\u001b[39;00m F\u001b[38;5;241m.\u001b[39mconv2d(F\u001b[38;5;241m.\u001b[39mpad(\u001b[38;5;28minput\u001b[39m, \u001b[38;5;28mself\u001b[39m\u001b[38;5;241m.\u001b[39m_reversed_padding_repeated_twice, mode\u001b[38;5;241m=\u001b[39m\u001b[38;5;28mself\u001b[39m\u001b[38;5;241m.\u001b[39mpadding_mode),\n\u001b[1;32m    451\u001b[0m                     weight, bias, \u001b[38;5;28mself\u001b[39m\u001b[38;5;241m.\u001b[39mstride,\n\u001b[1;32m    452\u001b[0m                     _pair(\u001b[38;5;241m0\u001b[39m), \u001b[38;5;28mself\u001b[39m\u001b[38;5;241m.\u001b[39mdilation, \u001b[38;5;28mself\u001b[39m\u001b[38;5;241m.\u001b[39mgroups)\n\u001b[0;32m--> 453\u001b[0m \u001b[38;5;28;01mreturn\u001b[39;00m \u001b[43mF\u001b[49m\u001b[38;5;241;43m.\u001b[39;49m\u001b[43mconv2d\u001b[49m\u001b[43m(\u001b[49m\u001b[38;5;28;43minput\u001b[39;49m\u001b[43m,\u001b[49m\u001b[43m \u001b[49m\u001b[43mweight\u001b[49m\u001b[43m,\u001b[49m\u001b[43m \u001b[49m\u001b[43mbias\u001b[49m\u001b[43m,\u001b[49m\u001b[43m \u001b[49m\u001b[38;5;28;43mself\u001b[39;49m\u001b[38;5;241;43m.\u001b[39;49m\u001b[43mstride\u001b[49m\u001b[43m,\u001b[49m\n\u001b[1;32m    454\u001b[0m \u001b[43m                \u001b[49m\u001b[38;5;28;43mself\u001b[39;49m\u001b[38;5;241;43m.\u001b[39;49m\u001b[43mpadding\u001b[49m\u001b[43m,\u001b[49m\u001b[43m \u001b[49m\u001b[38;5;28;43mself\u001b[39;49m\u001b[38;5;241;43m.\u001b[39;49m\u001b[43mdilation\u001b[49m\u001b[43m,\u001b[49m\u001b[43m \u001b[49m\u001b[38;5;28;43mself\u001b[39;49m\u001b[38;5;241;43m.\u001b[39;49m\u001b[43mgroups\u001b[49m\u001b[43m)\u001b[49m\n",
      "\u001b[0;31mRuntimeError\u001b[0m: Given groups=1, weight of size [32, 1, 3, 3], expected input[128, 3, 32, 32] to have 1 channels, but got 3 channels instead"
     ]
    }
   ],
   "source": [
    "epochs = 5\n",
    "for epoch in range(1, epochs + 1):\n",
    "    train(cnn, dl_train, optimizer, epoch, log_interval=100)\n",
    "    test(cnn, dl_test)    \n",
    "    scheduler.step()"
   ]
  },
  {
   "cell_type": "markdown",
   "metadata": {},
   "source": [
    "This will not work. You should see the following error message\n",
    "\n",
    "```\n",
    "Given groups=1, weight of size [32, 1, 3, 3], expected input[128, 3, 32, 32] to have 1 channels, but got 3 channels instead\n",
    "```\n",
    "\n",
    "This error is telling us that something is not right in the definition of our model. Copy the CNN class from above and make changes, so the training works."
   ]
  },
  {
   "cell_type": "code",
   "execution_count": 32,
   "metadata": {},
   "outputs": [],
   "source": [
    "#########################################################################\n",
    "# TODO: Adapt the definition from the CNN class above to work on CIFAR.\n",
    "# You can copy and run the following prompt for evaluation:\n",
    "# CNN()(torch.randn(1,3,32,32)).shape\n",
    "# It should print 'torch.Size([1, 10])'\n",
    "# Hint: You need to change 2 things. \n",
    "#########################################################################\n",
    "\n",
    "class CNN(nn.Module):\n",
    "    def __init__(self):\n",
    "        super(CNN, self).__init__()\n",
    "        self.model = nn.Sequential(nn.Conv2d(3, 32, 3, stride=1),\n",
    "                                   nn.ReLU(),\n",
    "                                   nn.Conv2d(32, 64, 3, stride=1),\n",
    "                                   nn.ReLU(),\n",
    "                                   nn.MaxPool2d(2, stride=2),\n",
    "                                   nn.Dropout(p=0.25),\n",
    "                                   nn.Flatten(), \n",
    "                                   nn.Linear(12544, 128),\n",
    "                                   nn.ReLU(),\n",
    "                                   nn.Dropout(p=0.5),\n",
    "                                   nn.Linear(128, 10))\n",
    "\n",
    "    def forward(self, x):\n",
    "        return self.model(x)"
   ]
  },
  {
   "cell_type": "markdown",
   "metadata": {},
   "source": [
    "Let's try again"
   ]
  },
  {
   "cell_type": "code",
   "execution_count": 33,
   "metadata": {
    "scrolled": true
   },
   "outputs": [
    {
     "name": "stdout",
     "output_type": "stream",
     "text": [
      "Train Epoch: 1 [0/50000 (0%)]\tLoss: 2.303374\n",
      "Train Epoch: 1 [12800/50000 (26%)]\tLoss: 1.878492\n",
      "Train Epoch: 1 [25600/50000 (51%)]\tLoss: 2.054933\n",
      "Train Epoch: 1 [38400/50000 (77%)]\tLoss: 1.902789\n",
      "\n",
      "Train set: Average loss: 1.9719, Accuracy: 12952/50000 (25.9%)\n",
      "\n",
      "\n",
      "Test set: Average loss: 1.8308, Accuracy: 16268/50000 (32.536%)\n",
      "\n",
      "Train Epoch: 2 [0/50000 (0%)]\tLoss: 1.840673\n",
      "Train Epoch: 2 [12800/50000 (26%)]\tLoss: 1.958276\n",
      "Train Epoch: 2 [25600/50000 (51%)]\tLoss: 1.615584\n",
      "Train Epoch: 2 [38400/50000 (77%)]\tLoss: 1.768726\n",
      "\n",
      "Train set: Average loss: 2.0102, Accuracy: 15788/50000 (31.6%)\n",
      "\n",
      "\n",
      "Test set: Average loss: 1.7456, Accuracy: 17844/50000 (35.688%)\n",
      "\n",
      "Train Epoch: 3 [0/50000 (0%)]\tLoss: 1.738309\n",
      "Train Epoch: 3 [12800/50000 (26%)]\tLoss: 2.049115\n",
      "Train Epoch: 3 [25600/50000 (51%)]\tLoss: 1.972962\n",
      "Train Epoch: 3 [38400/50000 (77%)]\tLoss: 2.025506\n",
      "\n",
      "Train set: Average loss: 1.8062, Accuracy: 12914/50000 (25.8%)\n",
      "\n",
      "\n",
      "Test set: Average loss: 1.7458, Accuracy: 17291/50000 (34.582%)\n",
      "\n",
      "Train Epoch: 4 [0/50000 (0%)]\tLoss: 2.064356\n",
      "Train Epoch: 4 [12800/50000 (26%)]\tLoss: 1.812811\n",
      "Train Epoch: 4 [25600/50000 (51%)]\tLoss: 1.532088\n",
      "Train Epoch: 4 [38400/50000 (77%)]\tLoss: 1.662695\n",
      "\n",
      "Train set: Average loss: 1.5668, Accuracy: 17139/50000 (34.3%)\n",
      "\n",
      "\n",
      "Test set: Average loss: 1.5768, Accuracy: 20808/50000 (41.616%)\n",
      "\n",
      "Train Epoch: 5 [0/50000 (0%)]\tLoss: 1.623960\n",
      "Train Epoch: 5 [12800/50000 (26%)]\tLoss: 1.981938\n",
      "Train Epoch: 5 [25600/50000 (51%)]\tLoss: 1.738785\n",
      "Train Epoch: 5 [38400/50000 (77%)]\tLoss: 1.802363\n",
      "\n",
      "Train set: Average loss: 1.6455, Accuracy: 17569/50000 (35.1%)\n",
      "\n",
      "\n",
      "Test set: Average loss: 1.5408, Accuracy: 21821/50000 (43.642%)\n",
      "\n",
      "Train Epoch: 6 [0/50000 (0%)]\tLoss: 1.620375\n",
      "Train Epoch: 6 [12800/50000 (26%)]\tLoss: 1.523274\n",
      "Train Epoch: 6 [25600/50000 (51%)]\tLoss: 1.754018\n",
      "Train Epoch: 6 [38400/50000 (77%)]\tLoss: 1.648005\n",
      "\n",
      "Train set: Average loss: 1.7876, Accuracy: 18511/50000 (37.0%)\n",
      "\n",
      "\n",
      "Test set: Average loss: 1.6564, Accuracy: 19503/50000 (39.006%)\n",
      "\n",
      "Train Epoch: 7 [0/50000 (0%)]\tLoss: 1.846345\n",
      "Train Epoch: 7 [12800/50000 (26%)]\tLoss: 1.701992\n",
      "Train Epoch: 7 [25600/50000 (51%)]\tLoss: 1.824300\n",
      "Train Epoch: 7 [38400/50000 (77%)]\tLoss: 1.534024\n",
      "\n",
      "Train set: Average loss: 1.6744, Accuracy: 18656/50000 (37.3%)\n",
      "\n",
      "\n",
      "Test set: Average loss: 1.5615, Accuracy: 21364/50000 (42.728%)\n",
      "\n",
      "Train Epoch: 8 [0/50000 (0%)]\tLoss: 1.619310\n",
      "Train Epoch: 8 [12800/50000 (26%)]\tLoss: 1.607975\n",
      "Train Epoch: 8 [25600/50000 (51%)]\tLoss: 1.708474\n",
      "Train Epoch: 8 [38400/50000 (77%)]\tLoss: 1.682279\n",
      "\n",
      "Train set: Average loss: 1.8325, Accuracy: 19184/50000 (38.4%)\n",
      "\n",
      "\n",
      "Test set: Average loss: 1.5812, Accuracy: 20889/50000 (41.778%)\n",
      "\n",
      "Train Epoch: 9 [0/50000 (0%)]\tLoss: 1.755582\n",
      "Train Epoch: 9 [12800/50000 (26%)]\tLoss: 1.862942\n",
      "Train Epoch: 9 [25600/50000 (51%)]\tLoss: 1.912563\n",
      "Train Epoch: 9 [38400/50000 (77%)]\tLoss: 1.577241\n",
      "\n",
      "Train set: Average loss: 1.7648, Accuracy: 19474/50000 (38.9%)\n",
      "\n",
      "\n",
      "Test set: Average loss: 1.5555, Accuracy: 21665/50000 (43.330%)\n",
      "\n",
      "Train Epoch: 10 [0/50000 (0%)]\tLoss: 1.676923\n",
      "Train Epoch: 10 [12800/50000 (26%)]\tLoss: 1.691124\n",
      "Train Epoch: 10 [25600/50000 (51%)]\tLoss: 1.536804\n",
      "Train Epoch: 10 [38400/50000 (77%)]\tLoss: 1.655850\n",
      "\n",
      "Train set: Average loss: 1.4822, Accuracy: 19499/50000 (39.0%)\n",
      "\n",
      "\n",
      "Test set: Average loss: 1.5097, Accuracy: 22864/50000 (45.728%)\n",
      "\n"
     ]
    }
   ],
   "source": [
    "cnn = CNN()\n",
    "optimizer = optim.SGD(cnn.parameters(), lr=0.1, momentum=0.9, weight_decay=5e-4)\n",
    "scheduler = torch.optim.lr_scheduler.CosineAnnealingLR(optimizer, T_max=200)\n",
    "\n",
    "epochs = 10\n",
    "for epoch in range(1, epochs + 1):\n",
    "    train(cnn, dl_train, optimizer, epoch, log_interval=100)\n",
    "    test(cnn, dl_test)    \n",
    "    scheduler.step()"
   ]
  },
  {
   "cell_type": "markdown",
   "metadata": {},
   "source": [
    "This should give 40 - 50 % - and if you are not already on Colab it will give you a stressed out laptop. The performance is a lot better than random, but we can definitely do better."
   ]
  },
  {
   "cell_type": "markdown",
   "metadata": {},
   "source": [
    "### Have fun with GPUs\n",
    "You can already call it a day until this point because we won't grade the rest of the excecise. You can have more fun with the rest :)\n"
   ]
  },
  {
   "cell_type": "markdown",
   "metadata": {},
   "source": [
    "\n",
    "If you didn't already, move to colab. To use a GPU, follow on the collaboratory menu tabs, \"Runtime\" => \"Change runtime type\" and set it to GPU. Then run the same training loop but now on GPU. \n",
    "\n",
    "It as easy as:"
   ]
  },
  {
   "cell_type": "code",
   "execution_count": null,
   "metadata": {},
   "outputs": [],
   "source": [
    "device = 'cuda'\n",
    "if device == 'cuda': torch.backends.cudnn.benchmark = True # additional speed up\n",
    "\n",
    "cnn = CNN()\n",
    "optimizer = optim.SGD(cnn.parameters(), lr=0.1, momentum=0.9, weight_decay=5e-4)\n",
    "scheduler = torch.optim.lr_scheduler.CosineAnnealingLR(optimizer, T_max=200)\n",
    "cnn = cnn.to(device)\n",
    "\n",
    "epochs = 10\n",
    "for epoch in range(1, epochs + 1):\n",
    "    train(cnn, dl_train, optimizer, epoch, log_interval=100, device=device)\n",
    "    test(cnn, dl_test, device=device)    \n",
    "    scheduler.step()"
   ]
  },
  {
   "cell_type": "markdown",
   "metadata": {},
   "source": [
    "This should be way faster now. But the true advantage of the GPU is that we can use much bigger models now and still train them in a reasonable amount of time. PyTorch is again very handy. The torchvision library comes with varies state-of-the-art model architectures, some of which you have seen in the lecture."
   ]
  },
  {
   "cell_type": "code",
   "execution_count": null,
   "metadata": {},
   "outputs": [],
   "source": [
    "from torchvision.models import resnet18"
   ]
  },
  {
   "cell_type": "code",
   "execution_count": null,
   "metadata": {
    "scrolled": true
   },
   "outputs": [],
   "source": [
    "cnn = resnet18()\n",
    "print(cnn)"
   ]
  },
  {
   "cell_type": "markdown",
   "metadata": {},
   "source": [
    "Looks scary! But the only thing you need to change to make it work on CIFAR is the last layer.\n",
    "Currently the last layer is:\n",
    "```\n",
    "  (fc): Linear(in_features=512, out_features=1000, bias=True)\n",
    "```\n",
    "out_features is the number of classes. This models are developed for Imagenet, a dataset with 1000 classes. So this part of the model you need to adapt. Additionally, you need to add a log-softmax layer again, as we us negative log-likelihood as the training criterion. "
   ]
  },
  {
   "cell_type": "code",
   "execution_count": null,
   "metadata": {},
   "outputs": [],
   "source": [
    "#########################################################################\n",
    "# TODO: Adapt the Resnet to work on CIFAR\n",
    "#########################################################################\n"
   ]
  },
  {
   "cell_type": "code",
   "execution_count": null,
   "metadata": {},
   "outputs": [],
   "source": [
    "# This should print 'torch.Size([16, 10])'\n",
    "cnn(torch.randn(16,3,32,32)).shape"
   ]
  },
  {
   "cell_type": "code",
   "execution_count": null,
   "metadata": {},
   "outputs": [],
   "source": [
    "device = 'cuda'\n",
    "if device == 'cuda': torch.backends.cudnn.benchmark = True # this gives us additional speed up\n",
    "\n",
    "optimizer = optim.SGD(cnn.parameters(), lr=0.1, momentum=0.9, weight_decay=5e-4)\n",
    "scheduler = torch.optim.lr_scheduler.CosineAnnealingLR(optimizer, T_max=200)\n",
    "cnn = cnn.to(device)\n",
    "\n",
    "epochs = 50\n",
    "for epoch in range(1, epochs + 1):\n",
    "    train(cnn, dl_train, optimizer, epoch, log_interval=100, device=device)\n",
    "    test(cnn, dl_test, device=device)    \n",
    "    scheduler.step()"
   ]
  },
  {
   "cell_type": "markdown",
   "metadata": {},
   "source": [
    "This should get us well above 75%, the best we got was ~ 80%.\n",
    "\n",
    "Now, use different torchvision architectures, different optimizers (Adam is always a good choice), data augmentation techniques, and hyperparameter search to achieve a test accuracy of >90 %"
   ]
  },
  {
   "cell_type": "code",
   "execution_count": null,
   "metadata": {},
   "outputs": [],
   "source": []
  }
 ],
 "metadata": {
  "kernelspec": {
   "display_name": "Python 3 (ipykernel)",
   "language": "python",
   "name": "python3"
  },
  "language_info": {
   "codemirror_mode": {
    "name": "ipython",
    "version": 3
   },
   "file_extension": ".py",
   "mimetype": "text/x-python",
   "name": "python",
   "nbconvert_exporter": "python",
   "pygments_lexer": "ipython3",
   "version": "3.9.13"
  },
  "vscode": {
   "interpreter": {
    "hash": "d268b61a0efacafa8645774cb6d0204c9f01d7563ef03f7672146d044e8f345c"
   }
  }
 },
 "nbformat": 4,
 "nbformat_minor": 4
}
