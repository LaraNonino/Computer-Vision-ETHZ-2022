{
 "cells": [
  {
   "cell_type": "markdown",
   "metadata": {},
   "source": [
    "# Point Cloud Binary Classification with PyTorch"
   ]
  },
  {
   "cell_type": "markdown",
   "metadata": {},
   "source": [
    "Make sure you are using the `dl4cv` conda environment."
   ]
  },
  {
   "cell_type": "markdown",
   "metadata": {},
   "source": [
    "## Dataset loading and visualization"
   ]
  },
  {
   "cell_type": "markdown",
   "metadata": {},
   "source": [
    "The input X contain 100 2D points, and y are their corresponding labels (0 or 1). The goal is to train a model that can classify every point to its correct label.\n"
   ]
  },
  {
   "cell_type": "code",
   "execution_count": 1,
   "metadata": {},
   "outputs": [
    {
     "data": {
      "image/png": "[encoded data removed]",
      "text/plain": [
       "<Figure size 640x480 with 1 Axes>"
      ]
     },
     "metadata": {},
     "output_type": "display_data"
    },
    {
     "data": {
      "text/plain": [
       "<Figure size 640x480 with 0 Axes>"
      ]
     },
     "metadata": {},
     "output_type": "display_data"
    }
   ],
   "source": [
    "%matplotlib inline\n",
    "import matplotlib.pyplot as plt\n",
    "import numpy as np\n",
    "import torch\n",
    "import torch.nn as nn\n",
    "import torch.nn.functional as F\n",
    "import torch.optim as optim\n",
    "from torch.utils.data import Dataset\n",
    "from torch.utils.data import DataLoader\n",
    "from torch.optim import Adam\n",
    "\n",
    "dataset = np.load('data/2d_pcl_dataset.npz')\n",
    "X, y = dataset['X'], dataset['y']\n",
    "\n",
    "X0 = X[y==0] # 50 2D points have label 0\n",
    "X1 = X[y==1] # 50 2D points have label 1\n",
    "\n",
    "def plot(X0, X1, fit_param=None):\n",
    "    plt.scatter(X0[:,0], X0[:,1], color='red', label=0)\n",
    "    plt.scatter(X1[:,0], X1[:,1], color='blue', label=1)\n",
    "    \n",
    "    plt.xlim([-0.55, 0.55])\n",
    "    plt.ylim([-0.35, 0.25])\n",
    "    plt.legend()\n",
    "    plt.show()\n",
    "    plt.clf()\n",
    "\n",
    "plot(X0, X1)"
   ]
  },
  {
   "cell_type": "markdown",
   "metadata": {},
   "source": [
    "## Logistic Regression for the point cloud classification task\n"
   ]
  },
  {
   "cell_type": "markdown",
   "metadata": {},
   "source": [
    "Starting by filling in the `Simple2DDataset` class below. First, in the class constructore `__init__`, you will need to read the right `2d_pcl_dataset.npz` from disk.\n",
    "\n",
    "Second, in the `__getitem__`, you will need to take a single data point and its label based on its index `idx`"
   ]
  },
  {
   "cell_type": "code",
   "execution_count": 2,
   "metadata": {},
   "outputs": [],
   "source": [
    "class Simple2DDataset(Dataset):\n",
    "    def __init__(self):\n",
    "        super().__init__()\n",
    "        #########################################################################\n",
    "        # TODO: read data from disk using np.load.\n",
    "        # Data is located in the folder \"data\".\n",
    "        # Save samples and labels to class members self.X and self.y respectively.\n",
    "        # samples should be an Nx2 numpy array. Labels should be Nx1.\n",
    "        \n",
    "        self.X = np.load('data/2d_pcl_dataset.npz')['X']\n",
    "        self.y = np.load('data/2d_pcl_dataset.npz')['y']\n",
    "     \n",
    "    def __len__(self):\n",
    "        # Returns the number of samples in the dataset.\n",
    "        return self.X.shape[0]\n",
    "    \n",
    "    def __getitem__(self, idx):\n",
    "        #########################################################################\n",
    "        # TODO: return the sample and label with index idx\n",
    "        #########################################################################\n",
    "        point = self.X[idx]\n",
    "        label = self.y[idx]\n",
    "        \n",
    "        # Convert to tensor.\n",
    "        return torch.from_numpy(point).float(), \\\n",
    "               torch.from_numpy(label[np.newaxis]).float()"
   ]
  },
  {
   "cell_type": "markdown",
   "metadata": {},
   "source": [
    "With the complete `Simple2DDataset`, we can create a PyTorch dataloader\n",
    "\n",
    "**NOTE**: if you encounter some unexpected errors in data loading, try setting `NUM_WORKERS = 0`"
   ]
  },
  {
   "cell_type": "code",
   "execution_count": 3,
   "metadata": {
    "scrolled": true
   },
   "outputs": [],
   "source": [
    "BATCH_SIZE = 8\n",
    "NUM_WORKERS = 0\n",
    "\n",
    "# create the dataloader\n",
    "dataset = Simple2DDataset()\n",
    "train_dataloader = DataLoader(\n",
    "    dataset,\n",
    "    batch_size=BATCH_SIZE,\n",
    "    num_workers=NUM_WORKERS,\n",
    "    shuffle=True\n",
    ")"
   ]
  },
  {
   "cell_type": "markdown",
   "metadata": {},
   "source": [
    "Now, define your first network by filling in the `LinearClassifier` class below.\n",
    "\n",
    "Add a single linear layer `nn.Linear` inside the `nn.Sequential` call. The input is 2D, and the output should be a single value, corresponding to the probability of a given 2D point being part of cluster 0."
   ]
  },
  {
   "cell_type": "code",
   "execution_count": 4,
   "metadata": {},
   "outputs": [],
   "source": [
    "class LinearClassifier(nn.Module):\n",
    "    def __init__(self):\n",
    "        super().__init__()\n",
    "\n",
    "        self.codename = 'linear'\n",
    "\n",
    "        #########################################################################\n",
    "        # TODO: add a single linear layer with nn.Linear, inside the `nn.Sequential` call.\n",
    "        # Input is 2D.\n",
    "        # Output is a single value.\n",
    "        #########################################################################\n",
    "        self.model = nn.Sequential(nn.Linear(2,1))\n",
    "        \n",
    "    def forward(self, batch):\n",
    "        # Process batch using the defined model.\n",
    "        x = self.model(batch)\n",
    "        # Final sigmoid activation to obtain a probability between 0 and 1.\n",
    "        return torch.sigmoid(x)"
   ]
  },
  {
   "cell_type": "markdown",
   "metadata": {},
   "source": [
    "Now, you are asked to implement the training loop below"
   ]
  },
  {
   "cell_type": "code",
   "execution_count": 5,
   "metadata": {},
   "outputs": [],
   "source": [
    "def train(net, optimizer, dataloader, epoch):\n",
    "    net.train()\n",
    "    loss_sum = 0\n",
    "    for batch_idx, (point, label) in enumerate(dataloader):\n",
    "        # First we need to zero the gradient, otherwise PyTorch would accumulate them\n",
    "        optimizer.zero_grad()\n",
    "\n",
    "        #########################################################################\n",
    "        #TODO: \n",
    "        # 1. forward pass of the network to obtain the predictions given the batch\n",
    "        # 2. compute the loss using F.binary_cross_entropy\n",
    "        # 3. backward pass on the loss using loss.backward(), and one step \n",
    "        # of gradient descent (optimization) using optimizer.step()\n",
    "        #########################################################################\n",
    "        my_label = net(point)\n",
    "        loss = F.binary_cross_entropy(my_label, label)\n",
    "        loss.backward()\n",
    "        optimizer.step()\n",
    "\n",
    "        loss_sum += loss\n",
    "    return loss_sum\n",
    "        "
   ]
  },
  {
   "cell_type": "markdown",
   "metadata": {},
   "source": [
    "You can now run below to train the linear model."
   ]
  },
  {
   "cell_type": "code",
   "execution_count": 6,
   "metadata": {
    "scrolled": true,
    "tags": []
   },
   "outputs": [
    {
     "name": "stdout",
     "output_type": "stream",
     "text": [
      "[Epoch 01] Loss: 8.7712\n",
      "[Epoch 02] Loss: 6.9332\n",
      "[Epoch 03] Loss: 5.9777\n",
      "[Epoch 04] Loss: 5.4694\n",
      "[Epoch 05] Loss: 5.0391\n",
      "[Epoch 06] Loss: 4.6038\n",
      "[Epoch 07] Loss: 4.3749\n",
      "[Epoch 08] Loss: 4.3389\n",
      "[Epoch 09] Loss: 4.2897\n",
      "[Epoch 10] Loss: 4.2113\n",
      "[Epoch 11] Loss: 3.9804\n",
      "[Epoch 12] Loss: 3.9339\n",
      "[Epoch 13] Loss: 3.9324\n",
      "[Epoch 14] Loss: 3.9211\n",
      "[Epoch 15] Loss: 3.7659\n",
      "[Epoch 16] Loss: 3.8658\n",
      "[Epoch 17] Loss: 3.7489\n",
      "[Epoch 18] Loss: 3.6364\n",
      "[Epoch 19] Loss: 3.9515\n",
      "[Epoch 20] Loss: 3.7574\n",
      "[Epoch 21] Loss: 3.6012\n",
      "[Epoch 22] Loss: 3.7786\n",
      "[Epoch 23] Loss: 3.5867\n",
      "[Epoch 24] Loss: 4.0856\n",
      "[Epoch 25] Loss: 3.5358\n",
      "[Epoch 26] Loss: 3.7276\n",
      "[Epoch 27] Loss: 3.8197\n",
      "[Epoch 28] Loss: 3.7715\n",
      "[Epoch 29] Loss: 3.5865\n",
      "[Epoch 30] Loss: 3.7789\n",
      "[Epoch 31] Loss: 3.5133\n",
      "[Epoch 32] Loss: 3.8306\n",
      "[Epoch 33] Loss: 3.4951\n",
      "[Epoch 34] Loss: 3.5960\n",
      "[Epoch 35] Loss: 3.5789\n",
      "[Epoch 36] Loss: 3.5144\n",
      "[Epoch 37] Loss: 3.5346\n",
      "[Epoch 38] Loss: 3.8947\n",
      "[Epoch 39] Loss: 3.6687\n",
      "[Epoch 40] Loss: 3.4668\n",
      "[Epoch 41] Loss: 3.4580\n",
      "[Epoch 42] Loss: 3.7143\n",
      "[Epoch 43] Loss: 3.5292\n",
      "[Epoch 44] Loss: 3.5228\n",
      "[Epoch 45] Loss: 3.5300\n",
      "[Epoch 46] Loss: 3.6027\n",
      "[Epoch 47] Loss: 3.5678\n",
      "[Epoch 48] Loss: 3.6340\n",
      "[Epoch 49] Loss: 3.4410\n",
      "[Epoch 50] Loss: 3.6090\n",
      "[Epoch 51] Loss: 3.7279\n",
      "[Epoch 52] Loss: 3.6513\n",
      "[Epoch 53] Loss: 3.5257\n",
      "[Epoch 54] Loss: 3.7694\n",
      "[Epoch 55] Loss: 3.4630\n",
      "[Epoch 56] Loss: 3.6182\n",
      "[Epoch 57] Loss: 3.5107\n",
      "[Epoch 58] Loss: 3.4659\n",
      "[Epoch 59] Loss: 3.5244\n",
      "[Epoch 60] Loss: 3.4609\n",
      "[Epoch 61] Loss: 3.5479\n",
      "[Epoch 62] Loss: 3.4622\n",
      "[Epoch 63] Loss: 3.6307\n",
      "[Epoch 64] Loss: 3.5225\n",
      "[Epoch 65] Loss: 3.7784\n",
      "[Epoch 66] Loss: 3.4997\n",
      "[Epoch 67] Loss: 3.4664\n",
      "[Epoch 68] Loss: 3.4788\n",
      "[Epoch 69] Loss: 3.4499\n",
      "[Epoch 70] Loss: 3.4692\n",
      "[Epoch 71] Loss: 3.6522\n",
      "[Epoch 72] Loss: 3.5035\n",
      "[Epoch 73] Loss: 3.7716\n",
      "[Epoch 74] Loss: 3.4787\n",
      "[Epoch 75] Loss: 3.7453\n",
      "[Epoch 76] Loss: 3.7029\n",
      "[Epoch 77] Loss: 3.4570\n",
      "[Epoch 78] Loss: 3.5614\n",
      "[Epoch 79] Loss: 3.5393\n",
      "[Epoch 80] Loss: 3.8129\n",
      "[Epoch 81] Loss: 3.6116\n",
      "[Epoch 82] Loss: 3.7930\n",
      "[Epoch 83] Loss: 3.7365\n",
      "[Epoch 84] Loss: 3.4820\n",
      "[Epoch 85] Loss: 3.7267\n",
      "[Epoch 86] Loss: 3.5949\n",
      "[Epoch 87] Loss: 3.4565\n",
      "[Epoch 88] Loss: 3.5796\n",
      "[Epoch 89] Loss: 3.4466\n",
      "[Epoch 90] Loss: 3.6863\n",
      "[Epoch 91] Loss: 3.6557\n",
      "[Epoch 92] Loss: 3.4534\n",
      "[Epoch 93] Loss: 3.5418\n",
      "[Epoch 94] Loss: 3.4604\n",
      "[Epoch 95] Loss: 3.6958\n",
      "[Epoch 96] Loss: 3.5079\n",
      "[Epoch 97] Loss: 3.4743\n",
      "[Epoch 98] Loss: 3.5000\n",
      "[Epoch 99] Loss: 3.5107\n",
      "[Epoch 100] Loss: 3.5375\n"
     ]
    }
   ],
   "source": [
    "NUM_EPOCHS = 100\n",
    "# create the network.\n",
    "net = LinearClassifier()\n",
    "\n",
    "# create the optimizer.\n",
    "optimizer = Adam(net.parameters(), lr=0.1)\n",
    "\n",
    "best_accuracy = 0\n",
    "for epoch_idx in range(NUM_EPOCHS):\n",
    "    loss = train(net, optimizer, train_dataloader, epoch_idx)\n",
    "    print('[Epoch %02d] Loss: %.4f' % (epoch_idx + 1, loss))"
   ]
  },
  {
   "cell_type": "markdown",
   "metadata": {},
   "source": [
    "Now plot your result below.\n"
   ]
  },
  {
   "cell_type": "code",
   "execution_count": 7,
   "metadata": {},
   "outputs": [
    {
     "data": {
      "image/png": "[encoded data removed]",
      "text/plain": [
       "<Figure size 640x480 with 1 Axes>"
      ]
     },
     "metadata": {},
     "output_type": "display_data"
    },
    {
     "data": {
      "text/plain": [
       "<Figure size 640x480 with 0 Axes>"
      ]
     },
     "metadata": {},
     "output_type": "display_data"
    }
   ],
   "source": [
    "p = np.linspace(-0.5, 0.5, 500)\n",
    "x_plot, y_plot = np.meshgrid(p, p)\n",
    "X_plot = np.stack((x_plot, y_plot), axis=2).reshape(-1, 2)\n",
    "X_plot = torch.from_numpy(X_plot).float()\n",
    "output = net(X_plot)\n",
    "output = output.detach().numpy()\n",
    "output = output.reshape(x_plot.shape[0], x_plot.shape[1])\n",
    "\n",
    "plt.contour(x_plot, y_plot, output, [0.5],\n",
    "                  colors=('k',),\n",
    "                  linewidths=(3,))\n",
    "plot(X0, X1)\n"
   ]
  },
  {
   "cell_type": "markdown",
   "metadata": {},
   "source": [
    "### Implement your first multi-layer perceptron (MLP) for point cloud classification\n",
    "Now you should notice that your logistic regression model cannot classify the point cloud correctly, and this is as expected :)  \n",
    "Therefore, we now ask you to implement an MLP for the same binary classification task."
   ]
  },
  {
   "cell_type": "code",
   "execution_count": 8,
   "metadata": {},
   "outputs": [],
   "source": [
    "# These are the parameters to be used\n",
    "nInput = 2\n",
    "nOutput = 1\n",
    "nHidden = 16\n",
    "act_fn = nn.ReLU()\n",
    "\n",
    "class MLP(nn.Module):\n",
    "    def __init__(self, nInput, nOutput, nHidden, act_fn):\n",
    "        super().__init__()\n",
    "\n",
    "        # Define the network layers in order.\n",
    "        # Input is 2D (nInput).\n",
    "        # Output is a single value (nOutput).\n",
    "        # Multiple linear layers each followed by a ReLU non-linearity (apart from the last).\n",
    "        #########################################################################\n",
    "        # TODO: add a two-layer MLP, inside the `nn.Sequential` call.\n",
    "        # Input is 2D.\n",
    "        # Output is a single value.\n",
    "\n",
    "        # Hint: unlike logistic regression where you need only one nn.Linear layer, \n",
    "        # here you will have two nn.Linear layers. After the first layer, we \n",
    "        # apply a ReLU activation function. The output is then passed to another \n",
    "        # linear layer. Note that you should use `nHidden` below as the hidden dimension \n",
    "        # of your linear layers.\n",
    "        #########################################################################\n",
    "        self.model = nn.Sequential(nn.Linear(nInput,nHidden), act_fn, nn.Linear(nHidden,nOutput))\n",
    "        \n",
    "        \n",
    "        \n",
    "        \n",
    "    def forward(self, batch):\n",
    "        # Process batch using the defined model.\n",
    "        x = self.model(batch)\n",
    "        # Final sigmoid activation to obtain a probability.\n",
    "        return torch.sigmoid(x)\n"
   ]
  },
  {
   "cell_type": "markdown",
   "metadata": {},
   "source": [
    "Run below again!"
   ]
  },
  {
   "cell_type": "code",
   "execution_count": 9,
   "metadata": {},
   "outputs": [
    {
     "name": "stdout",
     "output_type": "stream",
     "text": [
      "[Epoch 01] Loss: 5.6682\n",
      "[Epoch 02] Loss: 4.1748\n",
      "[Epoch 03] Loss: 4.4165\n",
      "[Epoch 04] Loss: 3.7628\n",
      "[Epoch 05] Loss: 3.8203\n",
      "[Epoch 06] Loss: 3.8558\n",
      "[Epoch 07] Loss: 3.8914\n",
      "[Epoch 08] Loss: 3.9509\n",
      "[Epoch 09] Loss: 3.8045\n",
      "[Epoch 10] Loss: 4.0223\n",
      "[Epoch 11] Loss: 3.9613\n",
      "[Epoch 12] Loss: 4.4575\n",
      "[Epoch 13] Loss: 3.7729\n",
      "[Epoch 14] Loss: 3.9321\n",
      "[Epoch 15] Loss: 4.1756\n",
      "[Epoch 16] Loss: 3.9987\n",
      "[Epoch 17] Loss: 3.7128\n",
      "[Epoch 18] Loss: 4.5872\n",
      "[Epoch 19] Loss: 4.1240\n",
      "[Epoch 20] Loss: 4.5066\n",
      "[Epoch 21] Loss: 3.6212\n",
      "[Epoch 22] Loss: 3.7453\n",
      "[Epoch 23] Loss: 3.5910\n",
      "[Epoch 24] Loss: 3.4891\n",
      "[Epoch 25] Loss: 3.7666\n",
      "[Epoch 26] Loss: 3.7130\n",
      "[Epoch 27] Loss: 3.6701\n",
      "[Epoch 28] Loss: 4.2778\n",
      "[Epoch 29] Loss: 3.9475\n",
      "[Epoch 30] Loss: 3.7372\n",
      "[Epoch 31] Loss: 3.7958\n",
      "[Epoch 32] Loss: 3.8384\n",
      "[Epoch 33] Loss: 5.0229\n",
      "[Epoch 34] Loss: 4.1242\n",
      "[Epoch 35] Loss: 4.3928\n",
      "[Epoch 36] Loss: 3.6822\n",
      "[Epoch 37] Loss: 3.7482\n",
      "[Epoch 38] Loss: 3.6844\n",
      "[Epoch 39] Loss: 3.5185\n",
      "[Epoch 40] Loss: 3.8589\n",
      "[Epoch 41] Loss: 3.8906\n",
      "[Epoch 42] Loss: 3.9043\n",
      "[Epoch 43] Loss: 3.7444\n",
      "[Epoch 44] Loss: 3.6727\n",
      "[Epoch 45] Loss: 3.6529\n",
      "[Epoch 46] Loss: 3.8183\n",
      "[Epoch 47] Loss: 3.3768\n",
      "[Epoch 48] Loss: 3.5493\n",
      "[Epoch 49] Loss: 3.5376\n",
      "[Epoch 50] Loss: 3.5082\n",
      "[Epoch 51] Loss: 2.8991\n",
      "[Epoch 52] Loss: 2.9486\n",
      "[Epoch 53] Loss: 2.9328\n",
      "[Epoch 54] Loss: 2.9720\n",
      "[Epoch 55] Loss: 2.6770\n",
      "[Epoch 56] Loss: 2.7687\n",
      "[Epoch 57] Loss: 2.6992\n",
      "[Epoch 58] Loss: 2.3138\n",
      "[Epoch 59] Loss: 2.2953\n",
      "[Epoch 60] Loss: 2.0215\n",
      "[Epoch 61] Loss: 1.8504\n",
      "[Epoch 62] Loss: 1.6656\n",
      "[Epoch 63] Loss: 1.6359\n",
      "[Epoch 64] Loss: 1.3416\n",
      "[Epoch 65] Loss: 1.1258\n",
      "[Epoch 66] Loss: 0.9989\n",
      "[Epoch 67] Loss: 0.8184\n",
      "[Epoch 68] Loss: 0.7168\n",
      "[Epoch 69] Loss: 0.6509\n",
      "[Epoch 70] Loss: 0.5780\n",
      "[Epoch 71] Loss: 0.6430\n",
      "[Epoch 72] Loss: 0.5790\n",
      "[Epoch 73] Loss: 0.3993\n",
      "[Epoch 74] Loss: 0.3934\n",
      "[Epoch 75] Loss: 0.3662\n",
      "[Epoch 76] Loss: 0.2843\n",
      "[Epoch 77] Loss: 0.3360\n",
      "[Epoch 78] Loss: 0.2939\n",
      "[Epoch 79] Loss: 0.2328\n",
      "[Epoch 80] Loss: 0.2904\n",
      "[Epoch 81] Loss: 0.2645\n",
      "[Epoch 82] Loss: 0.2131\n",
      "[Epoch 83] Loss: 0.2167\n",
      "[Epoch 84] Loss: 0.1985\n",
      "[Epoch 85] Loss: 0.1604\n",
      "[Epoch 86] Loss: 0.1911\n",
      "[Epoch 87] Loss: 0.1611\n",
      "[Epoch 88] Loss: 0.2109\n",
      "[Epoch 89] Loss: 0.2771\n",
      "[Epoch 90] Loss: 0.1576\n",
      "[Epoch 91] Loss: 0.1234\n",
      "[Epoch 92] Loss: 0.1452\n",
      "[Epoch 93] Loss: 0.1147\n",
      "[Epoch 94] Loss: 0.1171\n",
      "[Epoch 95] Loss: 0.1161\n",
      "[Epoch 96] Loss: 0.1436\n",
      "[Epoch 97] Loss: 0.0957\n",
      "[Epoch 98] Loss: 0.1124\n",
      "[Epoch 99] Loss: 0.0938\n",
      "[Epoch 100] Loss: 0.0918\n",
      "[Epoch 101] Loss: 0.0860\n",
      "[Epoch 102] Loss: 0.1059\n",
      "[Epoch 103] Loss: 0.0856\n",
      "[Epoch 104] Loss: 0.0757\n",
      "[Epoch 105] Loss: 0.0659\n",
      "[Epoch 106] Loss: 0.0874\n",
      "[Epoch 107] Loss: 0.0547\n",
      "[Epoch 108] Loss: 0.0786\n",
      "[Epoch 109] Loss: 0.0824\n",
      "[Epoch 110] Loss: 0.0550\n",
      "[Epoch 111] Loss: 0.0642\n",
      "[Epoch 112] Loss: 0.0602\n",
      "[Epoch 113] Loss: 0.0516\n",
      "[Epoch 114] Loss: 0.0522\n",
      "[Epoch 115] Loss: 0.0510\n",
      "[Epoch 116] Loss: 0.0552\n",
      "[Epoch 117] Loss: 0.0540\n",
      "[Epoch 118] Loss: 0.0502\n",
      "[Epoch 119] Loss: 0.0463\n",
      "[Epoch 120] Loss: 0.0444\n",
      "[Epoch 121] Loss: 0.0423\n",
      "[Epoch 122] Loss: 0.0450\n",
      "[Epoch 123] Loss: 0.0505\n",
      "[Epoch 124] Loss: 0.0398\n",
      "[Epoch 125] Loss: 0.0463\n",
      "[Epoch 126] Loss: 0.0428\n",
      "[Epoch 127] Loss: 0.0436\n",
      "[Epoch 128] Loss: 0.0373\n",
      "[Epoch 129] Loss: 0.0350\n",
      "[Epoch 130] Loss: 0.0351\n",
      "[Epoch 131] Loss: 0.0343\n",
      "[Epoch 132] Loss: 0.0352\n",
      "[Epoch 133] Loss: 0.0319\n",
      "[Epoch 134] Loss: 0.0308\n",
      "[Epoch 135] Loss: 0.0351\n",
      "[Epoch 136] Loss: 0.0344\n",
      "[Epoch 137] Loss: 0.0359\n",
      "[Epoch 138] Loss: 0.0302\n",
      "[Epoch 139] Loss: 0.0294\n",
      "[Epoch 140] Loss: 0.0273\n",
      "[Epoch 141] Loss: 0.0268\n",
      "[Epoch 142] Loss: 0.0256\n",
      "[Epoch 143] Loss: 0.0255\n",
      "[Epoch 144] Loss: 0.0253\n",
      "[Epoch 145] Loss: 0.0248\n",
      "[Epoch 146] Loss: 0.0241\n",
      "[Epoch 147] Loss: 0.0249\n",
      "[Epoch 148] Loss: 0.0249\n",
      "[Epoch 149] Loss: 0.0225\n",
      "[Epoch 150] Loss: 0.0227\n",
      "[Epoch 151] Loss: 0.0223\n",
      "[Epoch 152] Loss: 0.0224\n",
      "[Epoch 153] Loss: 0.0218\n",
      "[Epoch 154] Loss: 0.0196\n",
      "[Epoch 155] Loss: 0.0222\n",
      "[Epoch 156] Loss: 0.0205\n",
      "[Epoch 157] Loss: 0.0231\n",
      "[Epoch 158] Loss: 0.0218\n",
      "[Epoch 159] Loss: 0.0194\n",
      "[Epoch 160] Loss: 0.0197\n",
      "[Epoch 161] Loss: 0.0186\n",
      "[Epoch 162] Loss: 0.0183\n",
      "[Epoch 163] Loss: 0.0181\n",
      "[Epoch 164] Loss: 0.0179\n",
      "[Epoch 165] Loss: 0.0189\n",
      "[Epoch 166] Loss: 0.0188\n",
      "[Epoch 167] Loss: 0.0176\n",
      "[Epoch 168] Loss: 0.0189\n",
      "[Epoch 169] Loss: 0.0172\n",
      "[Epoch 170] Loss: 0.0157\n",
      "[Epoch 171] Loss: 0.0159\n",
      "[Epoch 172] Loss: 0.0161\n",
      "[Epoch 173] Loss: 0.0168\n",
      "[Epoch 174] Loss: 0.0161\n",
      "[Epoch 175] Loss: 0.0151\n",
      "[Epoch 176] Loss: 0.0158\n",
      "[Epoch 177] Loss: 0.0157\n",
      "[Epoch 178] Loss: 0.0141\n",
      "[Epoch 179] Loss: 0.0154\n",
      "[Epoch 180] Loss: 0.0167\n",
      "[Epoch 181] Loss: 0.0147\n",
      "[Epoch 182] Loss: 0.0144\n",
      "[Epoch 183] Loss: 0.0150\n",
      "[Epoch 184] Loss: 0.0132\n",
      "[Epoch 185] Loss: 0.0125\n",
      "[Epoch 186] Loss: 0.0139\n",
      "[Epoch 187] Loss: 0.0123\n",
      "[Epoch 188] Loss: 0.0118\n",
      "[Epoch 189] Loss: 0.0125\n",
      "[Epoch 190] Loss: 0.0122\n",
      "[Epoch 191] Loss: 0.0114\n",
      "[Epoch 192] Loss: 0.0120\n",
      "[Epoch 193] Loss: 0.0110\n",
      "[Epoch 194] Loss: 0.0139\n",
      "[Epoch 195] Loss: 0.0115\n",
      "[Epoch 196] Loss: 0.0108\n",
      "[Epoch 197] Loss: 0.0119\n",
      "[Epoch 198] Loss: 0.0119\n",
      "[Epoch 199] Loss: 0.0114\n",
      "[Epoch 200] Loss: 0.0101\n"
     ]
    }
   ],
   "source": [
    "NUM_EPOCHS = 200\n",
    "\n",
    "# create the network.\n",
    "net = MLP(nInput, nOutput, nHidden, act_fn)\n",
    "\n",
    "# create the optimizer.\n",
    "optimizer = Adam(net.parameters(), lr=0.1)\n",
    "\n",
    "best_accuracy = 0\n",
    "for epoch_idx in range(NUM_EPOCHS):\n",
    "    loss = train(net, optimizer, train_dataloader, epoch_idx)\n",
    "    print('[Epoch %02d] Loss: %.4f' % (epoch_idx + 1, loss))"
   ]
  },
  {
   "cell_type": "markdown",
   "metadata": {},
   "source": [
    "Again plot your result. You should see that the decision boundary can clearly separate the point clouds.\n"
   ]
  },
  {
   "cell_type": "code",
   "execution_count": 10,
   "metadata": {},
   "outputs": [
    {
     "data": {
      "image/png": "[encoded data removed]",
      "text/plain": [
       "<Figure size 640x480 with 1 Axes>"
      ]
     },
     "metadata": {},
     "output_type": "display_data"
    },
    {
     "data": {
      "text/plain": [
       "<Figure size 640x480 with 0 Axes>"
      ]
     },
     "metadata": {},
     "output_type": "display_data"
    }
   ],
   "source": [
    "p = np.linspace(-0.5, 0.5, 500)\n",
    "x_plot, y_plot = np.meshgrid(p, p)\n",
    "X_plot = np.stack((x_plot, y_plot), axis=2).reshape(-1, 2)\n",
    "X_plot = torch.from_numpy(X_plot).float()\n",
    "output = net(X_plot)\n",
    "output = output.detach().numpy()\n",
    "output = output.reshape(x_plot.shape[0], x_plot.shape[1])\n",
    "\n",
    "plt.contour(x_plot, y_plot, output, [0.5],\n",
    "                  colors=('k',),\n",
    "                  linewidths=(3,))\n",
    "plot(X0, X1)"
   ]
  },
  {
   "cell_type": "markdown",
   "metadata": {},
   "source": [
    "When you are done, move forward to `image_classification.ipynb`."
   ]
  },
  {
   "cell_type": "markdown",
   "metadata": {},
   "source": []
  }
 ],
 "metadata": {
  "kernelspec": {
   "display_name": "Python 3 (ipykernel)",
   "language": "python",
   "name": "python3"
  },
  "language_info": {
   "codemirror_mode": {
    "name": "ipython",
    "version": 3
   },
   "file_extension": ".py",
   "mimetype": "text/x-python",
   "name": "python",
   "nbconvert_exporter": "python",
   "pygments_lexer": "ipython3",
   "version": "3.9.13"
  },
  "vscode": {
   "interpreter": {
    "hash": "d268b61a0efacafa8645774cb6d0204c9f01d7563ef03f7672146d044e8f345c"
   }
  }
 },
 "nbformat": 4,
 "nbformat_minor": 4
}
